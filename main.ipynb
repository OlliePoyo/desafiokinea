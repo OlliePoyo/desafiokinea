{
 "cells": [
  {
   "cell_type": "markdown",
   "metadata": {},
   "source": [
    "# Desafio Kinea\n"
   ]
  },
  {
   "cell_type": "markdown",
   "metadata": {},
   "source": [
    "## Importando e definindo constantes globais"
   ]
  },
  {
   "cell_type": "code",
   "execution_count": 32,
   "metadata": {},
   "outputs": [],
   "source": [
    "import requests\n",
    "import base64 as b64\n",
    "import json\n",
    "from typing import Dict, List\n",
    "import csv\n",
    "from dateutil.relativedelta import relativedelta"
   ]
  },
  {
   "cell_type": "code",
   "execution_count": 4,
   "metadata": {},
   "outputs": [],
   "source": [
    "import logging\n",
    "logging.level=logging.INFO"
   ]
  },
  {
   "cell_type": "code",
   "execution_count": 5,
   "metadata": {},
   "outputs": [],
   "source": [
    "from datetime import date, datetime\n",
    "from workalendar.america import BrazilBankCalendar"
   ]
  },
  {
   "cell_type": "code",
   "execution_count": 6,
   "metadata": {},
   "outputs": [],
   "source": [
    "class BrazilAmbima(BrazilBankCalendar):\n",
    "    include_ash_wednesday = False\n",
    "\n",
    "    def get_variable_days(self, year):\n",
    "      \"\"\"\n",
    "      Define the brazilian variable holidays and the last\n",
    "      day for only internal bank transactions\n",
    "      \"\"\"\n",
    "      days = super().get_variable_days(year)[:-1]\n",
    "      return days\n",
    "cal = BrazilAmbima()"
   ]
  },
  {
   "cell_type": "code",
   "execution_count": 7,
   "metadata": {},
   "outputs": [],
   "source": [
    "client_id = \"9r2j5fK3DntV\"\n",
    "client_secret = \"ufaORoKwRRmw\""
   ]
  },
  {
   "cell_type": "markdown",
   "metadata": {},
   "source": [
    "## Funções básicas"
   ]
  },
  {
   "cell_type": "code",
   "execution_count": 8,
   "metadata": {},
   "outputs": [],
   "source": [
    "def calculate_du(start_date, end_date) -> int:\n",
    "  \"\"\"O formato de data é date(AAAA, MM, DD), como date(2022, 2, 4) para 4 de fev de 2022\"\"\"\n",
    "  interval = cal.get_working_days_delta(start_date, end_date)+1\n",
    "  return interval"
   ]
  },
  {
   "cell_type": "code",
   "execution_count": 9,
   "metadata": {},
   "outputs": [],
   "source": [
    "def b64encode(data:str) -> str:\n",
    "  \"Codifica uma string em base64\"\n",
    "  encodedBytes = b64.b64encode(data.encode(\"utf-8\"))\n",
    "  encodedStr = str(encodedBytes, \"utf-8\")\n",
    "  return encodedStr"
   ]
  },
  {
   "cell_type": "code",
   "execution_count": 10,
   "metadata": {},
   "outputs": [],
   "source": [
    "def check_error(acquired_value, expected_value):\n",
    "  err = abs((acquired_value-expected_value)/expected_value)*100\n",
    "  err_str = f'{err:0.3}%'\n",
    "  return err_str"
   ]
  },
  {
   "cell_type": "markdown",
   "metadata": {},
   "source": [
    "## Interface com API Ambima"
   ]
  },
  {
   "cell_type": "code",
   "execution_count": 11,
   "metadata": {},
   "outputs": [],
   "source": [
    "def get_access_token(_id:str, secret:str) -> requests.models.Response:\n",
    "  \"\"\"Recebe id e secret de um dado app e retorna o toke de acesso para aquele app\"\"\"\n",
    "  address = \"https://api.anbima.com.br/oauth/access-token?\"\n",
    "  credentials = b64encode(f\"{_id}:{secret}\")\n",
    "  body = {\"grant_type\": \"client_credentials\"}\n",
    "  headers = {\n",
    "    \"Authorization\": f\"Basic {credentials}\",\n",
    "    \"Content-Type\": \"application/json\"\n",
    "  }\n",
    "  logging.debug(f\"Auth headers: {headers}\")\n",
    "  res = requests.post(address, headers=headers, json=body)\n",
    "  logging.info(f\"Auth res status: {res.status_code}\")\n",
    "  logging.debug(f\"Auth res text: {res.text}\")\n",
    "  return res\n"
   ]
  },
  {
   "cell_type": "code",
   "execution_count": 12,
   "metadata": {},
   "outputs": [],
   "source": [
    "def get_data(_id:str, token:str, address:str) -> requests.models.Response:\n",
    "  headers = {\n",
    "    \"Content-Type\": \"application/json\",\n",
    "    \"access_token\": token,\n",
    "    \"client_id\": _id}\n",
    "  logging.debug(f\"Auth headers: {headers}\")\n",
    "  res = requests.get(address, headers=headers)\n",
    "  logging.info(f\"Auth res status: {res.status_code}\")\n",
    "  if res.status_code == 401:\n",
    "    new_token = get_access_token(_id, client_secret)\n",
    "    get_data(_id, new_token, address)\n",
    "  logging.debug(f\"Auth res text: {res.text}\")\n",
    "  return res"
   ]
  },
  {
   "cell_type": "code",
   "execution_count": 13,
   "metadata": {},
   "outputs": [],
   "source": [
    "auth_res = get_access_token(client_id, client_secret)\n",
    "access_token = json.loads(auth_res.content)[\"access_token\"]\n",
    "logging.info(f\"Access Token: {access_token}\")"
   ]
  },
  {
   "cell_type": "code",
   "execution_count": 14,
   "metadata": {},
   "outputs": [],
   "source": [
    "address_base = \"https://api-sandbox.anbima.com.br/feed/precos-indices/v1\"\n",
    "address_mercado_secundario_TPF = address_base+\"/titulos-publicos/mercado-secundario-TPF\"\n",
    "\n",
    "data_res = get_data(client_id, access_token, address_mercado_secundario_TPF)\n",
    "data_list = json.loads(data_res.content)\n",
    "logging.info(data_list)"
   ]
  },
  {
   "cell_type": "code",
   "execution_count": 15,
   "metadata": {},
   "outputs": [],
   "source": [
    "def save_to_csv(filedata:List[Dict], filename:str):\n",
    "  \"\"\"Take a list of dicts and save as an .csv with the given name\"\"\"\n",
    "  keys = filedata[0].keys()\n",
    "  with open('exports\\\\'+filename, 'w', newline='') as output_file:\n",
    "      dict_writer = csv.DictWriter(output_file, keys)\n",
    "      dict_writer.writeheader()\n",
    "      dict_writer.writerows(filedata)"
   ]
  },
  {
   "cell_type": "code",
   "execution_count": 16,
   "metadata": {},
   "outputs": [],
   "source": [
    "def clean_mercado_secundario(list_to_clean:List[Dict]):\n",
    "  keep_keys = ['tipo_titulo','data_referencia','data_vencimento','data_base','taxa_indicativa','pu']\n",
    "  res = [{key : val for key, val in sub.items() if key in keep_keys} for sub in list_to_clean]\n",
    "  return res"
   ]
  },
  {
   "cell_type": "code",
   "execution_count": 17,
   "metadata": {},
   "outputs": [],
   "source": [
    "clean_mercado = clean_mercado_secundario(data_list)"
   ]
  },
  {
   "cell_type": "markdown",
   "metadata": {},
   "source": [
    "## Cálculo de PUs"
   ]
  },
  {
   "cell_type": "code",
   "execution_count": 18,
   "metadata": {},
   "outputs": [],
   "source": [
    "def get_dias_cupom(start_date, end_date):\n",
    "  pgto_date_list = []\n",
    "  pgto_date = end_date\n",
    "\n",
    "  # Gera da lista de datas a partir da data final, em incrementos de 6 meses\n",
    "  while pgto_date > start_date:\n",
    "    pgto_date_list.append(pgto_date)\n",
    "    pgto_date -= relativedelta(months=6)\n",
    "\n",
    "  # Inverte a ordem da lista para crescente\n",
    "  pgto_date_list=pgto_date_list[::-1]\n",
    "  \n",
    "  return pgto_date_list"
   ]
  },
  {
   "cell_type": "markdown",
   "metadata": {},
   "source": [
    "LTN"
   ]
  },
  {
   "cell_type": "code",
   "execution_count": 19,
   "metadata": {},
   "outputs": [],
   "source": [
    "def calcular_ltn(taxa_anual, data_liqui, data_venc, valor_face=1000, expected_pu=0, debug=False):\n",
    "  du = calculate_du(data_liqui, data_venc)\n",
    "  pu = valor_face/((1+taxa_anual)**(du/252))\n",
    "  if debug:\n",
    "    return(f'PU: {pu} | Erro: {check_error(pu, expected_pu)}')\n",
    "  return pu"
   ]
  },
  {
   "cell_type": "code",
   "execution_count": 20,
   "metadata": {},
   "outputs": [
    {
     "data": {
      "text/plain": [
       "986.7040298582051"
      ]
     },
     "execution_count": 20,
     "metadata": {},
     "output_type": "execute_result"
    }
   ],
   "source": [
    "# calcular_ltn(0.1212, date(2022,3,21), date(2025,1,1))\n",
    "calcular_ltn(0.0728, date(2017,10,20), date(2018,1,1))"
   ]
  },
  {
   "cell_type": "markdown",
   "metadata": {},
   "source": [
    "NTN-F"
   ]
  },
  {
   "cell_type": "code",
   "execution_count": 21,
   "metadata": {},
   "outputs": [],
   "source": [
    "def calcular_ntn_f(taxa_anual, taxa_cupom, data_liqui, data_venc, valor_face=1000):\n",
    "  cupom_total = 0\n",
    "  upper_prazo_medio = 0\n",
    "  upper_duration = 0\n",
    "  lower_prazo_medio = 0\n",
    "  lower_duration = 0\n",
    "  \n",
    "  for cupom in get_dias_cupom(data_liqui, data_venc):\n",
    "    du_cupom = calculate_du(data_liqui, cupom)\n",
    "    pgto_cupom_pm = valor_face*((1+taxa_cupom)**(1/2)-1)\n",
    "    pgto_cupom_duration = valor_face*((1+taxa_cupom)**(1/2)-1)/((1+taxa_anual)**(du_cupom/252))\n",
    "    cupom_total += pgto_cupom_duration\n",
    "    dias_remanescentes = (data_venc-cupom).days\n",
    "\n",
    "    upper_prazo_medio += dias_remanescentes*pgto_cupom_pm\n",
    "    lower_prazo_medio += pgto_cupom_pm\n",
    "    upper_duration += dias_remanescentes*pgto_cupom_duration\n",
    "    lower_duration += pgto_cupom_duration\n",
    "\n",
    "  du = calculate_du(data_liqui, data_venc)\n",
    "  pagamento_final = valor_face/((1+taxa_anual)**(du/252))\n",
    "\n",
    "  pu = pagamento_final + cupom_total\n",
    "  prazo_medio = upper_prazo_medio/(lower_prazo_medio+valor_face)\n",
    "  duration = upper_duration/(lower_duration+pagamento_final)\n",
    "  \n",
    "  return pu, prazo_medio, duration"
   ]
  },
  {
   "cell_type": "code",
   "execution_count": 33,
   "metadata": {},
   "outputs": [
    {
     "name": "stdout",
     "output_type": "stream",
     "text": [
      "pu: 897.1143129880454 | prazo médio: 993.4549072071991 | duration: 1577.2703260560822\n",
      "Erro pu: 0.0115%\n",
      "Erro prazo médio: 65.6%\n",
      "Erro duration: 2.82%\n"
     ]
    }
   ],
   "source": [
    "pu, prazo_medio, duration = calcular_ntn_f(0.122, 0.1, date(2022,3,21), date(2033,1,1)) # PM 2888, D 1623\n",
    "\n",
    "# Prazo médio é fluxo futuro apenas, então não se usa taxa_anual para cálculo de prazo médio \n",
    "# Duration é sempre menor que prazo médio\n",
    "print(f'pu: {pu} | prazo médio: {prazo_medio} | duration: {duration}')\n",
    "print(f'Erro pu: {check_error(pu, 897.21734)}')\n",
    "print(f'Erro prazo médio: {check_error(prazo_medio, 2888)}')\n",
    "print(f'Erro duration: {check_error(duration, 1623)}')"
   ]
  },
  {
   "cell_type": "markdown",
   "metadata": {},
   "source": [
    "NTN-B Principal"
   ]
  },
  {
   "cell_type": "code",
   "execution_count": 23,
   "metadata": {},
   "outputs": [],
   "source": [
    "def calcular_ntn_b_princ(taxa_anual, data_liqui, data_venc, infla_proj, valor_face=1000):\n",
    "  d15_base = date(data_liqui.year, data_liqui.month, 15)\n",
    "  d15_proj = d15_base + relativedelta(months=1)\n",
    "  \n",
    "  fator = 3.849352 # descobrir como calcular\n",
    "  vna = valor_face*fator\n",
    "  vna_proj = vna*(1+infla_proj)**((data_liqui-d15_base)/(d15_proj-d15_base))\n",
    "  \n",
    "  # cupom_total = 0\n",
    "  # upper_prazo_medio = 0\n",
    "  # lower_prazo_medio = 0\n",
    "  # upper_duration = 0\n",
    "  # lower_duration = 0\n",
    "\n",
    "  # for cupom in get_dias_cupom(data_liqui, data_venc):\n",
    "  #   du_cupom = calculate_du(data_liqui, cupom)\n",
    "  #   pgto_cupom_pm = vna_proj*((1+taxa_cupom)**(1/2)-1)\n",
    "  #   pgto_cupom_duration = vna_proj*((1+taxa_cupom)**(1/2)-1)/((1+taxa_anual)**(du_cupom/252))\n",
    "  #   cupom_total += pgto_cupom_duration\n",
    "\n",
    "  #   dias_remanescentes = (cupom-data_liqui).days\n",
    "\n",
    "  #   upper_prazo_medio += dias_remanescentes*pgto_cupom_pm\n",
    "  #   lower_prazo_medio += pgto_cupom_pm\n",
    "  #   upper_duration += dias_remanescentes*pgto_cupom_duration\n",
    "  #   lower_duration += pgto_cupom_duration\n",
    "  \n",
    "  du = calculate_du(data_liqui, data_venc)\n",
    "  pu = vna_proj/((1+taxa_anual)**(du/252))\n",
    "  \n",
    "  # prazo_medio = upper_prazo_medio/(lower_prazo_medio+valor_face)\n",
    "  # duration = upper_duration/(lower_duration+cupom_total)\n",
    "  \n",
    "  return pu"
   ]
  },
  {
   "cell_type": "code",
   "execution_count": 24,
   "metadata": {},
   "outputs": [
    {
     "name": "stdout",
     "output_type": "stream",
     "text": [
      "ntn_b_princ_pu: 1058.917931176815\n",
      "Erro ntn_b_princ_pu: 0.0222%\n"
     ]
    }
   ],
   "source": [
    "ntn_b_princ_pu = calcular_ntn_b_princ(0.0576, date(2022,3,21), date(2045,5,15), 0.0107)\n",
    "\n",
    "# print(f'ntn_b_princ_pu: {ntn_b_princ_pu} | ntn_b_princ_prazo_medio: {ntn_b_princ_prazo_medio} | ntn_b_princ_duration: {ntn_b_princ_duration}')\n",
    "print(f'ntn_b_princ_pu: {ntn_b_princ_pu}')\n",
    "print(f'Erro ntn_b_princ_pu: {check_error(ntn_b_princ_pu, 1059.153)}')"
   ]
  },
  {
   "cell_type": "markdown",
   "metadata": {},
   "source": [
    "NTN-B"
   ]
  },
  {
   "cell_type": "code",
   "execution_count": 25,
   "metadata": {},
   "outputs": [],
   "source": [
    "def calcular_ntn_b(taxa_anual, taxa_cupom, data_liqui, data_venc, infla_proj, valor_face=1000):\n",
    "  d15_base = date(data_liqui.year, data_liqui.month, 15)\n",
    "  d15_proj = d15_base + relativedelta(months=1)\n",
    "  \n",
    "  fator = 3.849352 # descobrir como calcular\n",
    "  vna = valor_face*fator\n",
    "  vna_proj = vna*(1+infla_proj)**((data_liqui-d15_base)/(d15_proj-d15_base))\n",
    "  \n",
    "  cupom_total = 0\n",
    "  upper_prazo_medio = 0\n",
    "  lower_prazo_medio = 0\n",
    "  upper_duration = 0\n",
    "  lower_duration = 0\n",
    "\n",
    "  for cupom in get_dias_cupom(data_liqui, data_venc):\n",
    "    du_cupom = calculate_du(data_liqui, cupom)\n",
    "    pgto_cupom_pm = vna_proj*((1+taxa_cupom)**(1/2)-1)\n",
    "    pgto_cupom_duration = vna_proj*((1+taxa_cupom)**(1/2)-1)/((1+taxa_anual)**(du_cupom/252))\n",
    "    cupom_total += pgto_cupom_duration\n",
    "\n",
    "    dias_remanescentes = (cupom-data_liqui).days\n",
    "\n",
    "    upper_prazo_medio += dias_remanescentes*pgto_cupom_pm\n",
    "    lower_prazo_medio += pgto_cupom_pm\n",
    "    upper_duration += dias_remanescentes*pgto_cupom_duration\n",
    "    lower_duration += pgto_cupom_duration\n",
    "\n",
    "  du = calculate_du(data_liqui, data_venc)\n",
    "  pu = cupom_total + vna_proj/((1+taxa_anual)**(du/252))\n",
    "  \n",
    "  prazo_medio = upper_prazo_medio/(lower_prazo_medio+valor_face)\n",
    "  duration = upper_duration/(lower_duration+cupom_total)\n",
    "  \n",
    "  return pu, prazo_medio, duration"
   ]
  },
  {
   "cell_type": "code",
   "execution_count": 26,
   "metadata": {},
   "outputs": [
    {
     "name": "stdout",
     "output_type": "stream",
     "text": [
      "ntn_b_pu: 4006.5074402667087 | ntn_b_prazo_medio: 1394.1463583332861 | ntn_b_duration: 898.7090699567603\n",
      "Erro ntn_b_pu: 0.00665%\n"
     ]
    }
   ],
   "source": [
    "ntn_b_pu, ntn_b_prazo_medio, ntn_b_duration = calcular_ntn_b(0.0556, 0.06, date(2022,3,18), date(2032,8,15), 0.0094)\n",
    "\n",
    "print(f'ntn_b_pu: {ntn_b_pu} | ntn_b_prazo_medio: {ntn_b_prazo_medio} | ntn_b_duration: {ntn_b_duration}')\n",
    "print(f'Erro ntn_b_pu: {check_error(ntn_b_pu, 4006.774)}')\n",
    "# print(f'Erro ntn_b_prazo_medio: {check_error(ntn_b_prazo_medio, 2888)}')\n",
    "# print(f'Erro ntn_b_duration: {check_error(ntn_b_duration, 1623)}')"
   ]
  },
  {
   "cell_type": "markdown",
   "metadata": {},
   "source": [
    "LTF"
   ]
  },
  {
   "cell_type": "code",
   "execution_count": 27,
   "metadata": {},
   "outputs": [],
   "source": [
    "def calcular_ltf(taxa_anual, data_liqui, data_venc, vna, valor_face=1000):\n",
    "  ltn = calcular_ltn(taxa_anual, data_liqui, data_venc, vna)\n",
    "  return ltn"
   ]
  },
  {
   "cell_type": "code",
   "execution_count": 28,
   "metadata": {},
   "outputs": [
    {
     "data": {
      "text/plain": [
       "11644.527330634757"
      ]
     },
     "execution_count": 28,
     "metadata": {},
     "output_type": "execute_result"
    }
   ],
   "source": [
    "calcular_ltf(0.001193, date(2022,5,12), date(2022,9,1), 11648.93567)"
   ]
  },
  {
   "cell_type": "markdown",
   "metadata": {},
   "source": [
    "## Cálculo Geral"
   ]
  },
  {
   "cell_type": "code",
   "execution_count": null,
   "metadata": {},
   "outputs": [],
   "source": [
    "for titulo in clean_mercado:\n",
    "  data_liqui=datetime.strptime(titulo['data_referencia'], \"%Y-%m-%d\").date()\n",
    "  data_venc=datetime.strptime(titulo['data_vencimento'], \"%Y-%m-%d\").date()\n",
    "\n",
    "  if titulo['tipo_titulo'] == 'LTN':\n",
    "    pu_calc = calcular_ltn(\n",
    "      taxa_anual=titulo['taxa_indicativa']/100,\n",
    "      data_liqui=data_liqui,\n",
    "      data_venc=data_venc)\n",
    "    titulo['pu_calc']=pu_calc\n",
    "\n",
    "  elif titulo['tipo_titulo'] == 'NTN-B':\n",
    "    pu_calc, pm, dur = calcular_ntn_b(\n",
    "      data_liqui=data_liqui,\n",
    "      data_venc=data_venc,\n",
    "      taxa_anual=titulo['taxa_indicativa']/100,\n",
    "      # taxa_cupom=titulo['taxa_indicativa']/100, Esse deve ser um valor fixo para o NTN-B. Toda taxa cupom é fixa para um tipo de titulo\n",
    "      infla_proj=0.0094)\n",
    "    titulo['pu_calc']=pu_calc\n",
    "    titulo['prazo_medio']=pm\n",
    "    titulo['duration']=dur\n",
    "\n",
    "print([x for x in clean_mercado if x['tipo_titulo'] in ['LTN','NTN-B']])"
   ]
  }
 ],
 "metadata": {
  "interpreter": {
   "hash": "11938c6bc6919ae2720b4d5011047913343b08a43b18698fd82dedb0d4417594"
  },
  "kernelspec": {
   "display_name": "Python 3.9.7 64-bit",
   "language": "python",
   "name": "python3"
  },
  "language_info": {
   "codemirror_mode": {
    "name": "ipython",
    "version": 3
   },
   "file_extension": ".py",
   "mimetype": "text/x-python",
   "name": "python",
   "nbconvert_exporter": "python",
   "pygments_lexer": "ipython3",
   "version": "3.9.7"
  },
  "orig_nbformat": 4
 },
 "nbformat": 4,
 "nbformat_minor": 2
}
