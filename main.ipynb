{
 "cells": [
  {
   "cell_type": "markdown",
   "metadata": {},
   "source": [
    "# Desafio Kinea\n"
   ]
  },
  {
   "cell_type": "markdown",
   "metadata": {},
   "source": [
    "## Importando e definindo constantes globais"
   ]
  },
  {
   "cell_type": "code",
   "execution_count": 1,
   "metadata": {},
   "outputs": [],
   "source": [
    "import requests\n",
    "import base64 as b64\n",
    "import json\n",
    "import pandas as pd\n",
    "from typing import Dict, List\n",
    "import csv\n",
    "from dateutil.relativedelta import relativedelta"
   ]
  },
  {
   "cell_type": "code",
   "execution_count": 2,
   "metadata": {},
   "outputs": [],
   "source": [
    "import logging\n",
    "logging.level=logging.INFO"
   ]
  },
  {
   "cell_type": "code",
   "execution_count": 3,
   "metadata": {},
   "outputs": [],
   "source": [
    "from datetime import date, datetime\n",
    "from cal import AmbimaCalendar"
   ]
  },
  {
   "cell_type": "code",
   "execution_count": 4,
   "metadata": {},
   "outputs": [],
   "source": [
    "client_id = \"9r2j5fK3DntV\"\n",
    "client_secret = \"ufaORoKwRRmw\""
   ]
  },
  {
   "cell_type": "markdown",
   "metadata": {},
   "source": [
    "## Funções básicas"
   ]
  },
  {
   "cell_type": "code",
   "execution_count": 5,
   "metadata": {},
   "outputs": [],
   "source": [
    "def dias_uteis(start_date, end_date) -> int:\n",
    "  \"\"\"O formato de data é date(AAAA, MM, DD), como date(2022, 2, 4) para 4 de fev de 2022\"\"\"\n",
    "  interval = AmbimaCalendar().get_working_days_delta(start_date, end_date)+1\n",
    "  return interval"
   ]
  },
  {
   "cell_type": "code",
   "execution_count": 6,
   "metadata": {},
   "outputs": [],
   "source": [
    "def b64encode(data:str) -> str:\n",
    "  \"Codifica uma string em base64\"\n",
    "  encodedBytes = b64.b64encode(data.encode(\"utf-8\"))\n",
    "  encodedStr = str(encodedBytes, \"utf-8\")\n",
    "  return encodedStr"
   ]
  },
  {
   "cell_type": "code",
   "execution_count": 7,
   "metadata": {},
   "outputs": [],
   "source": [
    "def check_error(acquired_value, expected_value):\n",
    "  err = abs((acquired_value-expected_value)/expected_value)*100\n",
    "  err_str = f'{err:0.3}%'\n",
    "  return err_str"
   ]
  },
  {
   "cell_type": "markdown",
   "metadata": {},
   "source": [
    "## Interface com API Ambima"
   ]
  },
  {
   "cell_type": "code",
   "execution_count": 8,
   "metadata": {},
   "outputs": [],
   "source": [
    "def get_access_token(_id:str, secret:str) -> requests.models.Response:\n",
    "  \"\"\"Recebe id e secret de um dado app e retorna o toke de acesso para aquele app\"\"\"\n",
    "  address = \"https://api.anbima.com.br/oauth/access-token?\"\n",
    "  credentials = b64encode(f\"{_id}:{secret}\")\n",
    "  body = {\"grant_type\": \"client_credentials\"}\n",
    "  headers = {\n",
    "    \"Authorization\": f\"Basic {credentials}\",\n",
    "    \"Content-Type\": \"application/json\"\n",
    "  }\n",
    "  logging.debug(f\"Auth headers: {headers}\")\n",
    "  res = requests.post(address, headers=headers, json=body)\n",
    "  logging.info(f\"Auth res status: {res.status_code}\")\n",
    "  logging.debug(f\"Auth res text: {res.text}\")\n",
    "  return res\n"
   ]
  },
  {
   "cell_type": "code",
   "execution_count": 9,
   "metadata": {},
   "outputs": [],
   "source": [
    "def get_data(_id:str, token:str, address:str) -> requests.models.Response:\n",
    "  headers = {\n",
    "    \"Content-Type\": \"application/json\",\n",
    "    \"access_token\": token,\n",
    "    \"client_id\": _id}\n",
    "  logging.debug(f\"Auth headers: {headers}\")\n",
    "  res = requests.get(address, headers=headers)\n",
    "  logging.info(f\"Auth res status: {res.status_code}\")\n",
    "  if res.status_code == 401:\n",
    "    new_token = get_access_token(_id, client_secret)\n",
    "    get_data(_id, new_token, address)\n",
    "  logging.debug(f\"Auth res text: {res.text}\")\n",
    "  return res"
   ]
  },
  {
   "cell_type": "code",
   "execution_count": 10,
   "metadata": {},
   "outputs": [],
   "source": [
    "auth_res = get_access_token(client_id, client_secret)\n",
    "access_token = json.loads(auth_res.content)[\"access_token\"]\n",
    "logging.info(f\"Access Token: {access_token}\")"
   ]
  },
  {
   "cell_type": "code",
   "execution_count": 11,
   "metadata": {},
   "outputs": [],
   "source": [
    "address_base = \"https://api-sandbox.anbima.com.br\"\n",
    "address_mercado_secundario_TPF = f\"{address_base}/feed/precos-indices/v1/titulos-publicos/mercado-secundario-TPF\"\n",
    "addres_estimativa_selic = f'{address_base}/feed/precos-indices/v1/titulos-publicos/estimativa-selic'\n",
    "adress_vna = f\"{address_base}/feed/precos-indices/v1/titulos-publicos/vna\"\n",
    "adress_ipca_igpm = f\"{address_base}/feed/precos-indices/v1/titulos-publicos/projecoes\"\n",
    "\n",
    "data_res = get_data(client_id, access_token, address_mercado_secundario_TPF)\n",
    "data_list = json.loads(data_res.content)\n",
    "logging.info(data_list)"
   ]
  },
  {
   "cell_type": "code",
   "execution_count": 12,
   "metadata": {},
   "outputs": [
    {
     "data": {
      "text/plain": [
       "[{'data_referencia': '2017-10-20',\n",
       "  'titulos': [{'tipo_titulo': 'NTN-C',\n",
       "    'codigo_selic': '770100',\n",
       "    'index': 0.37,\n",
       "    'tipo_correcao': 'P',\n",
       "    'data_validade': '2017-10-13',\n",
       "    'vna': 3531.425676},\n",
       "   {'tipo_titulo': 'LFT',\n",
       "    'codigo_selic': '210100',\n",
       "    'index': 8.15,\n",
       "    'tipo_correcao': 'O',\n",
       "    'data_validade': '2017-10-20',\n",
       "    'vna': 9162.202647},\n",
       "   {'tipo_titulo': 'NTN-B',\n",
       "    'codigo_selic': '760100',\n",
       "    'index': 0.45,\n",
       "    'tipo_correcao': 'P',\n",
       "    'data_validade': '2017-10-17',\n",
       "    'vna': 3013.085961},\n",
       "   {'tipo_titulo': 'NTN-B',\n",
       "    'codigo_selic': '760199',\n",
       "    'index': 0.45,\n",
       "    'tipo_correcao': 'P',\n",
       "    'data_validade': '2017-10-17',\n",
       "    'vna': 3013.085961}]}]"
      ]
     },
     "execution_count": 12,
     "metadata": {},
     "output_type": "execute_result"
    }
   ],
   "source": [
    "data_res = get_data(client_id, access_token, adress_vna)\n",
    "data_vna = json.loads(data_res.content)\n",
    "data_vna"
   ]
  },
  {
   "cell_type": "code",
   "execution_count": 13,
   "metadata": {},
   "outputs": [],
   "source": [
    "# [x['vna'] for x in data_vna[0]['titulos'] if x['codigo_selic']=='210100'][0]"
   ]
  },
  {
   "cell_type": "code",
   "execution_count": 14,
   "metadata": {},
   "outputs": [],
   "source": [
    "def save_to_csv(filedata:List[Dict], filename:str):\n",
    "  \"\"\"Take a list of dicts and save as an .csv with the given name\"\"\"\n",
    "  keys = filedata[0].keys()\n",
    "  with open('exports\\\\'+filename, 'w', newline='') as output_file:\n",
    "      dict_writer = csv.DictWriter(output_file, keys)\n",
    "      dict_writer.writeheader()\n",
    "      dict_writer.writerows(filedata)"
   ]
  },
  {
   "cell_type": "code",
   "execution_count": 15,
   "metadata": {},
   "outputs": [],
   "source": [
    "def clean_mercado_secundario(list_to_clean:List[Dict]):\n",
    "  keep_keys = ['tipo_titulo','data_referencia','data_vencimento','data_base','taxa_indicativa','pu']\n",
    "  res = [{key : val for key, val in sub.items() if key in keep_keys} for sub in list_to_clean]\n",
    "  return res"
   ]
  },
  {
   "cell_type": "code",
   "execution_count": 16,
   "metadata": {},
   "outputs": [],
   "source": [
    "clean_mercado = clean_mercado_secundario(data_list)"
   ]
  },
  {
   "cell_type": "markdown",
   "metadata": {},
   "source": [
    "## Cálculo de PUs"
   ]
  },
  {
   "cell_type": "code",
   "execution_count": 17,
   "metadata": {},
   "outputs": [],
   "source": [
    "def get_dias_cupom(start_date, end_date):\n",
    "  \"\"\"Retorna uma listagem de cupons entre duas datas, indo da data final até a inicial, de 6 em 6 meses\"\"\"\n",
    "  pgto_date_list = list()\n",
    "  pgto_date = end_date\n",
    "  # Gera da lista de datas a partir da data final, em incrementos de 6 meses\n",
    "  while pgto_date > start_date:\n",
    "    pgto_date_list.append(pgto_date)\n",
    "    pgto_date -= relativedelta(months=6)\n",
    "  # Inverte a ordem da lista para crescente\n",
    "  pgto_date_list=pgto_date_list[::-1]\n",
    "  \n",
    "  return pgto_date_list"
   ]
  },
  {
   "cell_type": "markdown",
   "metadata": {},
   "source": [
    "LTN"
   ]
  },
  {
   "cell_type": "code",
   "execution_count": 36,
   "metadata": {},
   "outputs": [],
   "source": [
    "def calcular_ltn(data_venc, taxa, data_ref):\n",
    "  duration = dias_uteis(data_ref, data_venc)\n",
    "  pm = (data_venc - data_ref).days\n",
    "  pu = 1000/((1+taxa)**(duration/252))\n",
    "  return pu, duration, pm"
   ]
  },
  {
   "cell_type": "code",
   "execution_count": 33,
   "metadata": {},
   "outputs": [
    {
     "data": {
      "text/plain": [
       "(986.7040298582051, 48, 73)"
      ]
     },
     "execution_count": 33,
     "metadata": {},
     "output_type": "execute_result"
    }
   ],
   "source": [
    "# calcular_ltn(0.1212, date(2022,3,21), date(2025,1,1))\n",
    "calcular_ltn(0.0728, date(2017,10,20), date(2018,1,1))"
   ]
  },
  {
   "cell_type": "markdown",
   "metadata": {},
   "source": [
    "NTN-F"
   ]
  },
  {
   "cell_type": "code",
   "execution_count": 20,
   "metadata": {},
   "outputs": [],
   "source": [
    "def calcular_ntn_f(taxa, data_liqui, data_venc):\n",
    "  lista_datas = get_dias_cupom(data_liqui, data_venc)\n",
    "  fluxo_pgto = pd.DataFrame(lista_datas, columns=['data_pgto'])\n",
    "  fluxo_pgto['cupom_semestral'] = [(1.1**(1/2)-1)*1000]*len(lista_datas)\n",
    "  fluxo_pgto['cupom_semestral'].iloc[-1] = fluxo_pgto['cupom_semestral'].iloc[-1] + 1000\n",
    "  fluxo_pgto['dias_uteis'] = fluxo_pgto['data_pgto'].apply(lambda x: dias_uteis(data_liqui, x))\n",
    "  fluxo_pgto['dias_corridos'] = fluxo_pgto['data_pgto'].apply(lambda x: (x - data_liqui).days)\n",
    "  fluxo_pgto['vp_pgto'] = fluxo_pgto.apply(lambda x: (x['cupom_semestral'])/((1+taxa)**(x['dias_uteis']/252)), axis=1)\n",
    "\n",
    "  pu = fluxo_pgto['vp_pgto'].sum()\n",
    "  duration = (fluxo_pgto['vp_pgto']*fluxo_pgto['dias_uteis']).sum()/pu\n",
    "  pm = (fluxo_pgto['cupom_semestral']*fluxo_pgto['dias_corridos']).sum()/fluxo_pgto['cupom_semestral'].sum()\n",
    "\n",
    "  return pu, duration, pm\n"
   ]
  },
  {
   "cell_type": "code",
   "execution_count": null,
   "metadata": {},
   "outputs": [],
   "source": [
    "calcular_ntn_f(0.122, date(2022,3,21), date(2033,1,1))"
   ]
  },
  {
   "cell_type": "markdown",
   "metadata": {},
   "source": [
    "NTN-B"
   ]
  },
  {
   "cell_type": "code",
   "execution_count": 22,
   "metadata": {},
   "outputs": [],
   "source": [
    "def calcular_ntnb(taxa, data_liqui, data_venc):\n",
    "  # d15_base = data_liqui.replace(day=15)\n",
    "  # d15_proj = d15_base + relativedelta(months=1)\n",
    "  \n",
    "  # VNA deveria puxar dados de um banco, porém ainda não existe esse banco e o API tem só uma data em sandbox\n",
    "  vna = [x['vna'] for x in data_vna[0]['titulos'] if x['codigo_selic']=='760100'][0]\n",
    "\n",
    "  lista_datas = get_dias_cupom(data_liqui, data_venc)\n",
    "  fluxo_pgto = pd.DataFrame(lista_datas, columns=['data_pgto'])\n",
    "  fluxo_pgto['fluxo'] = [(1.06**(1/2)-1)]*len(lista_datas)\n",
    "  fluxo_pgto['fluxo'].iloc[-1] = fluxo_pgto['fluxo'].iloc[-1] + 1\n",
    "  fluxo_pgto['dias_uteis'] = fluxo_pgto['data_pgto'].apply(lambda x: dias_uteis(data_liqui, x))\n",
    "  fluxo_pgto['dias_corridos'] = fluxo_pgto['data_pgto'].apply(lambda x: (x - data_liqui).days)\n",
    "  fluxo_pgto['vf_fluxo_taxa'] = fluxo_pgto.apply(lambda x: ((1+taxa)**(x['dias_uteis']/252)), axis=1)\n",
    "  fluxo_pgto['cotacao'] = fluxo_pgto.apply(lambda x: x['fluxo']/x['vf_fluxo_taxa'], axis=1)\n",
    "\n",
    "  fluxo_pgto['cupom_semestral'] = fluxo_pgto['fluxo']*vna\n",
    "  fluxo_pgto['vp_pgto'] = fluxo_pgto['cupom_semestral']/fluxo_pgto['vf_fluxo_taxa']\n",
    "\n",
    "  pu = fluxo_pgto['cotacao'].sum()*vna\n",
    "  duration = (fluxo_pgto['vp_pgto']*fluxo_pgto['dias_uteis']).sum()/fluxo_pgto['vp_pgto'].sum()\n",
    "  pm = (fluxo_pgto['cupom_semestral']*fluxo_pgto['dias_corridos']).sum()/fluxo_pgto['cupom_semestral'].sum()\n",
    "  \n",
    "  return pu, duration, pm"
   ]
  },
  {
   "cell_type": "code",
   "execution_count": 23,
   "metadata": {},
   "outputs": [
    {
     "data": {
      "text/plain": [
       "3171.02105752211"
      ]
     },
     "execution_count": 23,
     "metadata": {},
     "output_type": "execute_result"
    }
   ],
   "source": [
    "calcular_ntnb(0.0576, date(2022,3,21), date(2045,5,15))[0]\n",
    "\n",
    "# print(f'ntn_b_princ_pu: {ntn_b_princ_pu} | ntn_b_princ_prazo_medio: {ntn_b_princ_prazo_medio} | ntn_b_princ_duration: {ntn_b_princ_duration}')\n",
    "# print(f'ntn_b_princ_pu: {ntn_b_princ_pu}')\n",
    "# print(f'Erro ntn_b_princ_pu: {check_error(ntn_b_princ_pu, 1059.153)}')"
   ]
  },
  {
   "cell_type": "markdown",
   "metadata": {},
   "source": [
    "LFT"
   ]
  },
  {
   "cell_type": "code",
   "execution_count": 41,
   "metadata": {},
   "outputs": [],
   "source": [
    "def calcular_lft(data_venc, taxa, data_ref):\n",
    "  duration = dias_uteis(data_ref, data_venc)\n",
    "  pm = (data_venc - data_ref).days\n",
    "\n",
    "  vna_dados = [x['vna'] for x in data_vna[0]['titulos'] if x['codigo_selic']=='210100'][0]\n",
    "  vna = vna + vna_dados\n",
    "  cotacao = (1+taxa)**(-duration/252)\n",
    "  pu = vna*cotacao\n",
    "  return pu, duration, pm\n",
    "\n",
    "calcular_lft(date(2022,5,12), 0.001193, date(2022,9,1))"
   ]
  },
  {
   "cell_type": "code",
   "execution_count": 39,
   "metadata": {},
   "outputs": [
    {
     "ename": "IndexError",
     "evalue": "list index out of range",
     "output_type": "error",
     "traceback": [
      "\u001b[1;31m---------------------------------------------------------------------------\u001b[0m",
      "\u001b[1;31mIndexError\u001b[0m                                Traceback (most recent call last)",
      "\u001b[1;32mc:\\Users\\HP\\Documents\\freela\\projects\\kinea\\code\\main.ipynb Cell 34'\u001b[0m in \u001b[0;36m<cell line: 1>\u001b[1;34m()\u001b[0m\n\u001b[1;32m----> <a href='vscode-notebook-cell:/c%3A/Users/HP/Documents/freela/projects/kinea/code/main.ipynb#ch0000033?line=0'>1</a>\u001b[0m calcular_lft(date(\u001b[39m2022\u001b[39;49m,\u001b[39m5\u001b[39;49m,\u001b[39m12\u001b[39;49m), \u001b[39m0.001193\u001b[39;49m, date(\u001b[39m2022\u001b[39;49m,\u001b[39m9\u001b[39;49m,\u001b[39m1\u001b[39;49m))\n",
      "\u001b[1;32mc:\\Users\\HP\\Documents\\freela\\projects\\kinea\\code\\main.ipynb Cell 33'\u001b[0m in \u001b[0;36mcalcular_lft\u001b[1;34m(data_venc, taxa, data_ref)\u001b[0m\n\u001b[0;32m      <a href='vscode-notebook-cell:/c%3A/Users/HP/Documents/freela/projects/kinea/code/main.ipynb#ch0000032?line=1'>2</a>\u001b[0m duration \u001b[39m=\u001b[39m dias_uteis(data_ref, data_venc)\n\u001b[0;32m      <a href='vscode-notebook-cell:/c%3A/Users/HP/Documents/freela/projects/kinea/code/main.ipynb#ch0000032?line=2'>3</a>\u001b[0m pm \u001b[39m=\u001b[39m (data_venc \u001b[39m-\u001b[39m data_ref)\u001b[39m.\u001b[39mdays\n\u001b[1;32m----> <a href='vscode-notebook-cell:/c%3A/Users/HP/Documents/freela/projects/kinea/code/main.ipynb#ch0000032?line=4'>5</a>\u001b[0m vna_dados \u001b[39m=\u001b[39m [x[\u001b[39m'\u001b[39;49m\u001b[39mvna\u001b[39;49m\u001b[39m'\u001b[39;49m] \u001b[39mfor\u001b[39;49;00m x \u001b[39min\u001b[39;49;00m data_vna[\u001b[39m0\u001b[39;49m][\u001b[39m'\u001b[39;49m\u001b[39mtitulos\u001b[39;49m\u001b[39m'\u001b[39;49m] \u001b[39mif\u001b[39;49;00m x[\u001b[39m'\u001b[39;49m\u001b[39mcodigo_selic\u001b[39;49m\u001b[39m'\u001b[39;49m]\u001b[39m==\u001b[39;49m\u001b[39m'\u001b[39;49m\u001b[39m21010\u001b[39;49m\u001b[39m'\u001b[39;49m][\u001b[39m0\u001b[39;49m]\n\u001b[0;32m      <a href='vscode-notebook-cell:/c%3A/Users/HP/Documents/freela/projects/kinea/code/main.ipynb#ch0000032?line=5'>6</a>\u001b[0m vna \u001b[39m=\u001b[39m vna \u001b[39m+\u001b[39m vna_dados\n\u001b[0;32m      <a href='vscode-notebook-cell:/c%3A/Users/HP/Documents/freela/projects/kinea/code/main.ipynb#ch0000032?line=6'>7</a>\u001b[0m cotacao \u001b[39m=\u001b[39m (\u001b[39m1\u001b[39m\u001b[39m+\u001b[39mtaxa)\u001b[39m*\u001b[39m\u001b[39m*\u001b[39m(\u001b[39m-\u001b[39mduration\u001b[39m/\u001b[39m\u001b[39m252\u001b[39m)\n",
      "\u001b[1;31mIndexError\u001b[0m: list index out of range"
     ]
    }
   ],
   "source": [
    "calcular_lft(date(2022,5,12), 0.001193, date(2022,9,1))"
   ]
  },
  {
   "cell_type": "markdown",
   "metadata": {},
   "source": [
    "## Cálculo Geral"
   ]
  },
  {
   "cell_type": "code",
   "execution_count": 34,
   "metadata": {},
   "outputs": [
    {
     "ename": "TypeError",
     "evalue": "calcular_lft() got an unexpected keyword argument 'taxa'",
     "output_type": "error",
     "traceback": [
      "\u001b[1;31m---------------------------------------------------------------------------\u001b[0m",
      "\u001b[1;31mTypeError\u001b[0m                                 Traceback (most recent call last)",
      "\u001b[1;32mc:\\Users\\HP\\Documents\\freela\\projects\\kinea\\code\\main.ipynb Cell 36'\u001b[0m in \u001b[0;36m<cell line: 1>\u001b[1;34m()\u001b[0m\n\u001b[0;32m      <a href='vscode-notebook-cell:/c%3A/Users/HP/Documents/freela/projects/kinea/code/main.ipynb#ch0000035?line=4'>5</a>\u001b[0m \u001b[39m# if titulo['tipo_titulo'] == 'LTN':\u001b[39;00m\n\u001b[0;32m      <a href='vscode-notebook-cell:/c%3A/Users/HP/Documents/freela/projects/kinea/code/main.ipynb#ch0000035?line=5'>6</a>\u001b[0m \u001b[39m#   pu_calc = calcular_ltn(\u001b[39;00m\n\u001b[0;32m      <a href='vscode-notebook-cell:/c%3A/Users/HP/Documents/freela/projects/kinea/code/main.ipynb#ch0000035?line=6'>7</a>\u001b[0m \u001b[39m#     taxa_anual=titulo['taxa_indicativa']/100,\u001b[39;00m\n\u001b[1;32m   (...)\u001b[0m\n\u001b[0;32m     <a href='vscode-notebook-cell:/c%3A/Users/HP/Documents/freela/projects/kinea/code/main.ipynb#ch0000035?line=16'>17</a>\u001b[0m \u001b[39m#     )\u001b[39;00m\n\u001b[0;32m     <a href='vscode-notebook-cell:/c%3A/Users/HP/Documents/freela/projects/kinea/code/main.ipynb#ch0000035?line=17'>18</a>\u001b[0m \u001b[39m#   titulo['pu_calc']=pu_calc\u001b[39;00m\n\u001b[0;32m     <a href='vscode-notebook-cell:/c%3A/Users/HP/Documents/freela/projects/kinea/code/main.ipynb#ch0000035?line=19'>20</a>\u001b[0m \u001b[39mif\u001b[39;00m titulo[\u001b[39m'\u001b[39m\u001b[39mtipo_titulo\u001b[39m\u001b[39m'\u001b[39m] \u001b[39m==\u001b[39m \u001b[39m'\u001b[39m\u001b[39mLFT\u001b[39m\u001b[39m'\u001b[39m:\n\u001b[1;32m---> <a href='vscode-notebook-cell:/c%3A/Users/HP/Documents/freela/projects/kinea/code/main.ipynb#ch0000035?line=20'>21</a>\u001b[0m     pu_calc \u001b[39m=\u001b[39m calcular_lft(\n\u001b[0;32m     <a href='vscode-notebook-cell:/c%3A/Users/HP/Documents/freela/projects/kinea/code/main.ipynb#ch0000035?line=21'>22</a>\u001b[0m       data_liqui\u001b[39m=\u001b[39;49mdata_liqui,\n\u001b[0;32m     <a href='vscode-notebook-cell:/c%3A/Users/HP/Documents/freela/projects/kinea/code/main.ipynb#ch0000035?line=22'>23</a>\u001b[0m       data_venc\u001b[39m=\u001b[39;49mdata_venc,\n\u001b[0;32m     <a href='vscode-notebook-cell:/c%3A/Users/HP/Documents/freela/projects/kinea/code/main.ipynb#ch0000035?line=23'>24</a>\u001b[0m       taxa\u001b[39m=\u001b[39;49mtitulo[\u001b[39m'\u001b[39;49m\u001b[39mtaxa_indicativa\u001b[39;49m\u001b[39m'\u001b[39;49m]\u001b[39m/\u001b[39;49m\u001b[39m100\u001b[39;49m\n\u001b[0;32m     <a href='vscode-notebook-cell:/c%3A/Users/HP/Documents/freela/projects/kinea/code/main.ipynb#ch0000035?line=24'>25</a>\u001b[0m       )\n\u001b[0;32m     <a href='vscode-notebook-cell:/c%3A/Users/HP/Documents/freela/projects/kinea/code/main.ipynb#ch0000035?line=25'>26</a>\u001b[0m     titulo[\u001b[39m'\u001b[39m\u001b[39mpu_calc\u001b[39m\u001b[39m'\u001b[39m]\u001b[39m=\u001b[39mpu_calc\n",
      "\u001b[1;31mTypeError\u001b[0m: calcular_lft() got an unexpected keyword argument 'taxa'"
     ]
    }
   ],
   "source": [
    "for titulo in clean_mercado:\n",
    "  data_liqui=datetime.strptime(titulo['data_referencia'], \"%Y-%m-%d\").date()\n",
    "  data_venc=datetime.strptime(titulo['data_vencimento'], \"%Y-%m-%d\").date()\n",
    "\n",
    "  # if titulo['tipo_titulo'] == 'LTN':\n",
    "  #   pu_calc = calcular_ltn(\n",
    "  #     taxa_anual=titulo['taxa_indicativa']/100,\n",
    "  #     data_liqui=data_liqui,\n",
    "  #     data_venc=data_venc)\n",
    "  #   titulo['pu_calc']=pu_calc\n",
    "\n",
    "  # if titulo['tipo_titulo'] == 'NTN-B':\n",
    "  #   pu_calc = calcular_ntnb(\n",
    "  #     data_liqui=data_liqui,\n",
    "  #     data_venc=data_venc,\n",
    "  #     taxa=titulo['taxa_indicativa']/100\n",
    "  #     )\n",
    "  #   titulo['pu_calc']=pu_calc\n",
    "  \n",
    "  if titulo['tipo_titulo'] == 'LFT':\n",
    "      pu_calc = calcular_lft(\n",
    "        data_liqui=data_liqui,\n",
    "        data_ref=data_venc,\n",
    "        taxa=titulo['taxa_indicativa']/100\n",
    "        )\n",
    "      titulo['pu_calc']=pu_calc\n",
    "  \n"
   ]
  },
  {
   "cell_type": "code",
   "execution_count": 30,
   "metadata": {},
   "outputs": [
    {
     "data": {
      "text/plain": [
       "Counter({'LTN': 11, 'NTN-F': 6, 'LFT': 11, 'NTN-B': 15, 'NTN-C': 2})"
      ]
     },
     "execution_count": 30,
     "metadata": {},
     "output_type": "execute_result"
    }
   ],
   "source": [
    "from collections import Counter\n",
    "Counter([x['tipo_titulo'] for x in clean_mercado])"
   ]
  },
  {
   "cell_type": "code",
   "execution_count": 27,
   "metadata": {},
   "outputs": [
    {
     "name": "stdout",
     "output_type": "stream",
     "text": [
      "Real, Calc, Error\n",
      "3127.950824, 3127.6391868892265, 0.00996%\n",
      "3238.274966, 3237.9476706693135, 0.0101%\n",
      "3227.183797, 3227.136143834944, 0.00148%\n",
      "3287.138181, 3287.1011284425113, 0.00113%\n",
      "3258.531943, 3258.0381686381716, 0.0152%\n",
      "3254.422094, 3253.908583236275, 0.0158%\n",
      "3321.33068, 3320.8686789625986, 0.0139%\n",
      "3318.513445, 3317.997025001115, 0.0156%\n",
      "3329.224966, 3329.078468668097, 0.0044%\n",
      "3369.672632, 3369.1415223089575, 0.0158%\n",
      "3456.98885, 3456.5917031636814, 0.0115%\n",
      "3463.102401, 3462.5870641418596, 0.0149%\n",
      "3488.327957, 3487.9867039828846, 0.00978%\n",
      "3487.035343, 3486.529020021143, 0.0145%\n",
      "3577.298359, 3577.0860027270646, 0.00594%\n"
     ]
    }
   ],
   "source": [
    "t =[x for x in clean_mercado if x['tipo_titulo'] in ['NTN-B']]\n",
    "print('Real, Calc, Error')\n",
    "for x in t: print(f\"{x['pu']}, {x['pu_calc'][0]}, {check_error(x['pu_calc'][0], x['pu'])}\")"
   ]
  }
 ],
 "metadata": {
  "interpreter": {
   "hash": "11938c6bc6919ae2720b4d5011047913343b08a43b18698fd82dedb0d4417594"
  },
  "kernelspec": {
   "display_name": "Python 3.9.7 64-bit",
   "language": "python",
   "name": "python3"
  },
  "language_info": {
   "codemirror_mode": {
    "name": "ipython",
    "version": 3
   },
   "file_extension": ".py",
   "mimetype": "text/x-python",
   "name": "python",
   "nbconvert_exporter": "python",
   "pygments_lexer": "ipython3",
   "version": "3.9.7"
  },
  "orig_nbformat": 4
 },
 "nbformat": 4,
 "nbformat_minor": 2
}
