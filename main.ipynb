{
 "cells": [
  {
   "cell_type": "markdown",
   "metadata": {},
   "source": [
    "# Desafio Kinea\n"
   ]
  },
  {
   "cell_type": "markdown",
   "metadata": {},
   "source": [
    "## Importando"
   ]
  },
  {
   "cell_type": "code",
   "execution_count": 1,
   "metadata": {},
   "outputs": [],
   "source": [
    "import logging\n",
    "logging.level=logging.INFO"
   ]
  },
  {
   "cell_type": "code",
   "execution_count": 2,
   "metadata": {},
   "outputs": [],
   "source": [
    "from typing import Dict, List\n",
    "import pandas as pd"
   ]
  },
  {
   "cell_type": "code",
   "execution_count": 3,
   "metadata": {},
   "outputs": [],
   "source": [
    "from ambima_connect import AmbimaConnect\n",
    "import utils\n",
    "from titulos import LTN, NTNB, NTNF, LFT"
   ]
  },
  {
   "cell_type": "markdown",
   "metadata": {},
   "source": [
    "## Interface com API Ambima"
   ]
  },
  {
   "cell_type": "code",
   "execution_count": 19,
   "metadata": {},
   "outputs": [],
   "source": [
    "def clean_list(list_to_clean:List[Dict], keep_keys):\n",
    "  res = [{key : val for key, val in sub.items() if key in keep_keys} for sub in list_to_clean]\n",
    "  return res"
   ]
  },
  {
   "cell_type": "code",
   "execution_count": 21,
   "metadata": {},
   "outputs": [],
   "source": [
    "public = AmbimaConnect('titulos publicos').content\n",
    "clean_public = clean_list(public, ['tipo_titulo','data_referencia','data_vencimento','taxa_indicativa','pu'])"
   ]
  },
  {
   "cell_type": "code",
   "execution_count": 5,
   "metadata": {},
   "outputs": [],
   "source": [
    "priv = AmbimaConnect('titulos privados').content\n",
    "priv_list = [x['codigo_ativo'] for x in priv]"
   ]
  },
  {
   "cell_type": "markdown",
   "metadata": {},
   "source": [
    "## Cálculo Geral"
   ]
  },
  {
   "cell_type": "code",
   "execution_count": null,
   "metadata": {},
   "outputs": [],
   "source": [
    "for titulo in clean_public[:10]:\n",
    "\n",
    "  if 'tipo_titulo' in titulo:\n",
    "    if titulo['tipo_titulo'] == 'LTN':\n",
    "      calc = LTN(\n",
    "        data_venc=titulo['data_vencimento'],\n",
    "        taxa=titulo['taxa_indicativa']/100,\n",
    "        data_ref=titulo['data_referencia'],\n",
    "        )\n",
    "    elif titulo['tipo_titulo'] == 'NTN-B':\n",
    "      calc = NTNB(\n",
    "        data_venc=titulo['data_vencimento'],\n",
    "        taxa=titulo['taxa_indicativa']/100,\n",
    "        data_ref=titulo['data_referencia'],\n",
    "        )\n",
    "    elif titulo['tipo_titulo'] == 'NTN-F':\n",
    "      calc = NTNF(\n",
    "        data_venc=titulo['data_vencimento'],\n",
    "        taxa=titulo['taxa_indicativa']/100,\n",
    "        data_ref=titulo['data_referencia'],\n",
    "        )\n",
    "    elif titulo['tipo_titulo'] == 'LFT':\n",
    "      calc = LFT(\n",
    "        data_venc=titulo['data_vencimento'],\n",
    "        taxa=titulo['taxa_indicativa']/100,\n",
    "        data_ref=titulo['data_referencia'],\n",
    "        )\n",
    "    \n",
    "  titulo['pu_calc']=calc.pu\n",
    "  titulo['pm_calc']=calc.pm\n",
    "  titulo['duration_calc']=calc.duration"
   ]
  },
  {
   "cell_type": "code",
   "execution_count": null,
   "metadata": {},
   "outputs": [],
   "source": [
    "t = clean_public[:10]\n",
    "t_l = list()\n",
    "for x in t: t_l.append({\n",
    "  \"Tipo\": x['tipo_titulo'],\n",
    "  \"Data Ref\": x['data_referencia'],\n",
    "  \"PU Real\": x['pu'],\n",
    "  \"PU Calc\": x['pu_calc'],\n",
    "  \"PU Error\": utils.check_error(x['pu_calc'], x['pu']),\n",
    "  # \"Duration Real\": x['duration'],\n",
    "  \"Duration Calc\": x['duration_calc'],\n",
    "  # \"Duration Error\": utils.check_error(x['duration_calc'], x['duration'])\n",
    "  })\n",
    "pd.DataFrame.from_dict(t_l)"
   ]
  }
 ],
 "metadata": {
  "interpreter": {
   "hash": "11938c6bc6919ae2720b4d5011047913343b08a43b18698fd82dedb0d4417594"
  },
  "kernelspec": {
   "display_name": "Python 3.9.7 64-bit",
   "language": "python",
   "name": "python3"
  },
  "language_info": {
   "codemirror_mode": {
    "name": "ipython",
    "version": 3
   },
   "file_extension": ".py",
   "mimetype": "text/x-python",
   "name": "python",
   "nbconvert_exporter": "python",
   "pygments_lexer": "ipython3",
   "version": "3.9.7"
  },
  "orig_nbformat": 4
 },
 "nbformat": 4,
 "nbformat_minor": 2
}
