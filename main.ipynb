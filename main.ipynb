{
 "cells": [
  {
   "cell_type": "markdown",
   "metadata": {},
   "source": [
    "# Desafio Kinea\n"
   ]
  },
  {
   "cell_type": "markdown",
   "metadata": {},
   "source": [
    "## Importando e definindo constantes globais"
   ]
  },
  {
   "cell_type": "code",
   "execution_count": 1,
   "metadata": {},
   "outputs": [],
   "source": [
    "import requests\n",
    "import base64 as b64\n",
    "import json\n",
    "import pandas as pd\n",
    "from typing import Dict, List\n",
    "import csv\n",
    "from dateutil.relativedelta import relativedelta"
   ]
  },
  {
   "cell_type": "code",
   "execution_count": 2,
   "metadata": {},
   "outputs": [],
   "source": [
    "import logging\n",
    "logging.level=logging.INFO"
   ]
  },
  {
   "cell_type": "code",
   "execution_count": 3,
   "metadata": {},
   "outputs": [],
   "source": [
    "from datetime import date, datetime\n",
    "from cal import AmbimaCalendar"
   ]
  },
  {
   "cell_type": "code",
   "execution_count": 4,
   "metadata": {},
   "outputs": [],
   "source": [
    "client_id = \"9r2j5fK3DntV\"\n",
    "client_secret = \"ufaORoKwRRmw\""
   ]
  },
  {
   "cell_type": "markdown",
   "metadata": {},
   "source": [
    "## Funções básicas"
   ]
  },
  {
   "cell_type": "code",
   "execution_count": 54,
   "metadata": {},
   "outputs": [],
   "source": [
    "def dias_uteis(start_date, end_date) -> int:\n",
    "  \"\"\"O formato de data é date(AAAA, MM, DD), como date(2022, 2, 4) para 4 de fev de 2022\"\"\"\n",
    "  interval = AmbimaCalendar().get_working_days_delta(start_date, end_date)+1\n",
    "  return interval"
   ]
  },
  {
   "cell_type": "code",
   "execution_count": 6,
   "metadata": {},
   "outputs": [],
   "source": [
    "def b64encode(data:str) -> str:\n",
    "  \"Codifica uma string em base64\"\n",
    "  encodedBytes = b64.b64encode(data.encode(\"utf-8\"))\n",
    "  encodedStr = str(encodedBytes, \"utf-8\")\n",
    "  return encodedStr"
   ]
  },
  {
   "cell_type": "code",
   "execution_count": 7,
   "metadata": {},
   "outputs": [],
   "source": [
    "def check_error(acquired_value, expected_value):\n",
    "  err = abs((acquired_value-expected_value)/expected_value)*100\n",
    "  err_str = f'{err:0.3}%'\n",
    "  return err_str"
   ]
  },
  {
   "cell_type": "markdown",
   "metadata": {},
   "source": [
    "## Interface com API Ambima"
   ]
  },
  {
   "cell_type": "code",
   "execution_count": 30,
   "metadata": {},
   "outputs": [],
   "source": [
    "def get_access_token(_id:str, secret:str) -> requests.models.Response:\n",
    "  \"\"\"Recebe id e secret de um dado app e retorna o toke de acesso para aquele app\"\"\"\n",
    "  address = \"https://api.anbima.com.br/oauth/access-token?\"\n",
    "  credentials = b64encode(f\"{_id}:{secret}\")\n",
    "  body = {\"grant_type\": \"client_credentials\"}\n",
    "  headers = {\n",
    "    \"Authorization\": f\"Basic {credentials}\",\n",
    "    \"Content-Type\": \"application/json\"\n",
    "  }\n",
    "  logging.debug(f\"Auth headers: {headers}\")\n",
    "  res = requests.post(address, headers=headers, json=body)\n",
    "  logging.info(f\"Auth res status: {res.status_code}\")\n",
    "  logging.debug(f\"Auth res text: {res.text}\")\n",
    "  return res\n"
   ]
  },
  {
   "cell_type": "code",
   "execution_count": 31,
   "metadata": {},
   "outputs": [],
   "source": [
    "def get_data(_id:str, token:str, address:str) -> requests.models.Response:\n",
    "  headers = {\n",
    "    \"Content-Type\": \"application/json\",\n",
    "    \"access_token\": token,\n",
    "    \"client_id\": _id}\n",
    "  logging.debug(f\"Auth headers: {headers}\")\n",
    "  res = requests.get(address, headers=headers)\n",
    "  logging.info(f\"Auth res status: {res.status_code}\")\n",
    "  if res.status_code == 401:\n",
    "    new_token = get_access_token(_id, client_secret)\n",
    "    get_data(_id, new_token, address)\n",
    "  logging.debug(f\"Auth res text: {res.text}\")\n",
    "  return res"
   ]
  },
  {
   "cell_type": "code",
   "execution_count": 32,
   "metadata": {},
   "outputs": [],
   "source": [
    "auth_res = get_access_token(client_id, client_secret)\n",
    "access_token = json.loads(auth_res.content)[\"access_token\"]\n",
    "logging.info(f\"Access Token: {access_token}\")"
   ]
  },
  {
   "cell_type": "code",
   "execution_count": 33,
   "metadata": {},
   "outputs": [],
   "source": [
    "address_base = \"https://api-sandbox.anbima.com.br\"\n",
    "address_mercado_secundario_TPF = f\"{address_base}/feed/precos-indices/v1/titulos-publicos/mercado-secundario-TPF\"\n",
    "addres_estimativa_selic = f'{address_base}/feed/precos-indices/v1/titulos-publicos/estimativa-selic'\n",
    "adress_vna = f\"{address_base}/feed/precos-indices/v1/titulos-publicos/vna\"\n",
    "adress_ipca_igpm = f\"{address_base}/feed/precos-indices/v1/titulos-publicos/projecoes\"\n",
    "\n",
    "data_res = get_data(client_id, access_token, address_mercado_secundario_TPF)\n",
    "data_list = json.loads(data_res.content)\n",
    "logging.info(data_list)"
   ]
  },
  {
   "cell_type": "code",
   "execution_count": 34,
   "metadata": {},
   "outputs": [
    {
     "data": {
      "text/plain": [
       "[{'data_referencia': '2017-10-20',\n",
       "  'titulos': [{'tipo_titulo': 'NTN-C',\n",
       "    'codigo_selic': '770100',\n",
       "    'index': 0.37,\n",
       "    'tipo_correcao': 'P',\n",
       "    'data_validade': '2017-10-13',\n",
       "    'vna': 3531.425676},\n",
       "   {'tipo_titulo': 'LFT',\n",
       "    'codigo_selic': '210100',\n",
       "    'index': 8.15,\n",
       "    'tipo_correcao': 'O',\n",
       "    'data_validade': '2017-10-20',\n",
       "    'vna': 9162.202647},\n",
       "   {'tipo_titulo': 'NTN-B',\n",
       "    'codigo_selic': '760100',\n",
       "    'index': 0.45,\n",
       "    'tipo_correcao': 'P',\n",
       "    'data_validade': '2017-10-17',\n",
       "    'vna': 3013.085961},\n",
       "   {'tipo_titulo': 'NTN-B',\n",
       "    'codigo_selic': '760199',\n",
       "    'index': 0.45,\n",
       "    'tipo_correcao': 'P',\n",
       "    'data_validade': '2017-10-17',\n",
       "    'vna': 3013.085961}]}]"
      ]
     },
     "execution_count": 34,
     "metadata": {},
     "output_type": "execute_result"
    }
   ],
   "source": [
    "data_res = get_data(client_id, access_token, adress_vna)\n",
    "data_vna = json.loads(data_res.content)\n",
    "data_vna"
   ]
  },
  {
   "cell_type": "code",
   "execution_count": 47,
   "metadata": {},
   "outputs": [
    {
     "data": {
      "text/plain": [
       "9162.202647"
      ]
     },
     "execution_count": 47,
     "metadata": {},
     "output_type": "execute_result"
    }
   ],
   "source": [
    "# [x['vna'] for x in data_vna[0]['titulos'] if x['codigo_selic']=='210100'][0]"
   ]
  },
  {
   "cell_type": "code",
   "execution_count": 12,
   "metadata": {},
   "outputs": [],
   "source": [
    "def save_to_csv(filedata:List[Dict], filename:str):\n",
    "  \"\"\"Take a list of dicts and save as an .csv with the given name\"\"\"\n",
    "  keys = filedata[0].keys()\n",
    "  with open('exports\\\\'+filename, 'w', newline='') as output_file:\n",
    "      dict_writer = csv.DictWriter(output_file, keys)\n",
    "      dict_writer.writeheader()\n",
    "      dict_writer.writerows(filedata)"
   ]
  },
  {
   "cell_type": "code",
   "execution_count": 13,
   "metadata": {},
   "outputs": [],
   "source": [
    "def clean_mercado_secundario(list_to_clean:List[Dict]):\n",
    "  keep_keys = ['tipo_titulo','data_referencia','data_vencimento','data_base','taxa_indicativa','pu']\n",
    "  res = [{key : val for key, val in sub.items() if key in keep_keys} for sub in list_to_clean]\n",
    "  return res"
   ]
  },
  {
   "cell_type": "code",
   "execution_count": 14,
   "metadata": {},
   "outputs": [],
   "source": [
    "clean_mercado = clean_mercado_secundario(data_list)"
   ]
  },
  {
   "cell_type": "markdown",
   "metadata": {},
   "source": [
    "## Cálculo de PUs"
   ]
  },
  {
   "cell_type": "code",
   "execution_count": 15,
   "metadata": {},
   "outputs": [],
   "source": [
    "def get_dias_cupom(start_date, end_date):\n",
    "  \"\"\"Retorna uma listagem de cupons entre duas datas, indo da data final até a inicial, de 6 em 6 meses\"\"\"\n",
    "  pgto_date_list = list()\n",
    "  pgto_date = end_date\n",
    "  # Gera da lista de datas a partir da data final, em incrementos de 6 meses\n",
    "  while pgto_date > start_date:\n",
    "    pgto_date_list.append(pgto_date)\n",
    "    pgto_date -= relativedelta(months=6)\n",
    "  # Inverte a ordem da lista para crescente\n",
    "  pgto_date_list=pgto_date_list[::-1]\n",
    "  \n",
    "  return pgto_date_list"
   ]
  },
  {
   "cell_type": "markdown",
   "metadata": {},
   "source": [
    "LTN"
   ]
  },
  {
   "cell_type": "code",
   "execution_count": 16,
   "metadata": {},
   "outputs": [],
   "source": [
    "def calcular_ltn(taxa_anual, data_liqui, data_venc, valor_face=1000, expected_pu=0, debug=False):\n",
    "  du = dias_uteis(data_liqui, data_venc)\n",
    "  pu = valor_face/((1+taxa_anual)**(du/252))\n",
    "  pm = (data_venc - data_liqui).days\n",
    "  duration = du\n",
    "  return pu, duration, pm"
   ]
  },
  {
   "cell_type": "code",
   "execution_count": 17,
   "metadata": {},
   "outputs": [
    {
     "data": {
      "text/plain": [
       "(986.7040298582051, 48, 73)"
      ]
     },
     "execution_count": 17,
     "metadata": {},
     "output_type": "execute_result"
    }
   ],
   "source": [
    "# calcular_ltn(0.1212, date(2022,3,21), date(2025,1,1))\n",
    "calcular_ltn(0.0728, date(2017,10,20), date(2018,1,1))"
   ]
  },
  {
   "cell_type": "markdown",
   "metadata": {},
   "source": [
    "NTN-F"
   ]
  },
  {
   "cell_type": "code",
   "execution_count": 23,
   "metadata": {},
   "outputs": [],
   "source": [
    "def calcular_ntn_f(taxa, data_liqui, data_venc):\n",
    "  lista_datas = get_dias_cupom(data_liqui, data_venc)\n",
    "  fluxo_pgto = pd.DataFrame(lista_datas, columns=['data_pgto'])\n",
    "  fluxo_pgto['cupom_semestral'] = [(1.1**(1/2)-1)*1000]*len(lista_datas)\n",
    "  fluxo_pgto['cupom_semestral'].iloc[-1] = fluxo_pgto['cupom_semestral'].iloc[-1] + 1000\n",
    "  fluxo_pgto['dias_uteis'] = fluxo_pgto['data_pgto'].apply(lambda x: dias_uteis(data_liqui, x))\n",
    "  fluxo_pgto['dias_corridos'] = fluxo_pgto['data_pgto'].apply(lambda x: (x - data_liqui).days)\n",
    "  fluxo_pgto['vp_pgto'] = fluxo_pgto.apply(lambda x: (x['cupom_semestral'])/((1+taxa)**(x['dias_uteis']/252)), axis=1)\n",
    "\n",
    "  pu = fluxo_pgto['vp_pgto'].sum()\n",
    "  duration = (fluxo_pgto['vp_pgto']*fluxo_pgto['dias_uteis']).sum()/pu\n",
    "  pm = (fluxo_pgto['cupom_semestral']*fluxo_pgto['dias_corridos']).sum()/fluxo_pgto['cupom_semestral'].sum()\n",
    "\n",
    "  return pu, duration, pm\n"
   ]
  },
  {
   "cell_type": "code",
   "execution_count": 25,
   "metadata": {},
   "outputs": [
    {
     "data": {
      "text/plain": [
       "(897.1143129880454, 1625.9087871528416, 2945.5450927928014)"
      ]
     },
     "execution_count": 25,
     "metadata": {},
     "output_type": "execute_result"
    }
   ],
   "source": [
    "calcular_ntn_f(0.122, date(2022,3,21), date(2033,1,1))"
   ]
  },
  {
   "cell_type": "markdown",
   "metadata": {},
   "source": [
    "NTN-B"
   ]
  },
  {
   "cell_type": "code",
   "execution_count": 77,
   "metadata": {},
   "outputs": [],
   "source": [
    "def calcular_ntnb(taxa, data_liqui, data_venc):\n",
    "  # d15_base = data_liqui.replace(day=15)\n",
    "  # d15_proj = d15_base + relativedelta(months=1)\n",
    "  \n",
    "  # VNA deveria puxar dados de um banco, porém ainda não existe esse banco e o API tem só uma data em sandbox\n",
    "  vna = [x['vna'] for x in data_vna[0]['titulos'] if x['codigo_selic']=='210100'][0]\n",
    "\n",
    "  lista_datas = get_dias_cupom(data_liqui, data_venc)\n",
    "  fluxo_pgto = pd.DataFrame(lista_datas, columns=['data_pgto'])\n",
    "  fluxo_pgto['fluxo'] = [(1.06**(1/2)-1)*1000]*len(lista_datas)\n",
    "  fluxo_pgto['fluxo'].iloc[-1] = fluxo_pgto['fluxo'].iloc[-1] + 1000\n",
    "  fluxo_pgto['dias_uteis'] = fluxo_pgto['data_pgto'].apply(lambda x: dias_uteis(data_liqui, x))\n",
    "  fluxo_pgto['dias_corridos'] = fluxo_pgto['data_pgto'].apply(lambda x: (x - data_liqui).days)\n",
    "  fluxo_pgto['vf_fluxo_taxa'] = fluxo_pgto.apply(lambda x: ((1+taxa)**(x['dias_uteis']/252)), axis=1)\n",
    "  fluxo_pgto['cotacao'] = fluxo_pgto.apply(lambda x: x['fluxo']/x['vf_fluxo_taxa'], axis=1)\n",
    "  \n",
    "  fluxo_pgto['cupom_semestral'] = fluxo_pgto['fluxo']*vna\n",
    "  fluxo_pgto['vp_pgto'] = fluxo_pgto['cupom_semestral']/fluxo_pgto['vf_fluxo_taxa']\n",
    "\n",
    "  pu = fluxo_pgto['cotacao'].sum()*vna\n",
    "  duration = (fluxo_pgto['vp_pgto']*fluxo_pgto['dias_uteis']).sum()/fluxo_pgto['vp_pgto'].sum()\n",
    "  pm = (fluxo_pgto['cupom_semestral']*fluxo_pgto['dias_corridos']).sum()/fluxo_pgto['cupom_semestral'].sum()\n",
    "  \n",
    "  return pu, duration, pm"
   ]
  },
  {
   "cell_type": "code",
   "execution_count": 78,
   "metadata": {},
   "outputs": [
    {
     "name": "stderr",
     "output_type": "stream",
     "text": [
      "C:\\Users\\HP\\AppData\\Roaming\\Python\\Python39\\site-packages\\pandas\\core\\indexing.py:1732: SettingWithCopyWarning: \n",
      "A value is trying to be set on a copy of a slice from a DataFrame\n",
      "\n",
      "See the caveats in the documentation: https://pandas.pydata.org/pandas-docs/stable/user_guide/indexing.html#returning-a-view-versus-a-copy\n",
      "  self._setitem_single_block(indexer, value, name)\n"
     ]
    },
    {
     "data": {
      "text/plain": [
       "(9642452.257578263, 3218.096109513264, 6013.817072266434)"
      ]
     },
     "execution_count": 78,
     "metadata": {},
     "output_type": "execute_result"
    }
   ],
   "source": [
    "calcular_ntnb(0.0576, date(2022,3,21), date(2045,5,15))\n",
    "\n",
    "# print(f'ntn_b_princ_pu: {ntn_b_princ_pu} | ntn_b_princ_prazo_medio: {ntn_b_princ_prazo_medio} | ntn_b_princ_duration: {ntn_b_princ_duration}')\n",
    "# print(f'ntn_b_princ_pu: {ntn_b_princ_pu}')\n",
    "# print(f'Erro ntn_b_princ_pu: {check_error(ntn_b_princ_pu, 1059.153)}')"
   ]
  },
  {
   "cell_type": "markdown",
   "metadata": {},
   "source": [
    "LFT"
   ]
  },
  {
   "cell_type": "code",
   "execution_count": 27,
   "metadata": {},
   "outputs": [],
   "source": [
    "def calcular_lft(taxa_anual, data_liqui, data_venc, vna, valor_face=1000):\n",
    "  pu = calcular_ltn(taxa_anual, data_liqui, data_venc, vna)\n",
    "  return pu"
   ]
  },
  {
   "cell_type": "code",
   "execution_count": 28,
   "metadata": {},
   "outputs": [
    {
     "data": {
      "text/plain": [
       "(11644.527330634757, 80, 112)"
      ]
     },
     "execution_count": 28,
     "metadata": {},
     "output_type": "execute_result"
    }
   ],
   "source": [
    "calcular_lft(0.001193, date(2022,5,12), date(2022,9,1), 11648.93567)"
   ]
  },
  {
   "cell_type": "markdown",
   "metadata": {},
   "source": [
    "## Cálculo Geral"
   ]
  },
  {
   "cell_type": "code",
   "execution_count": 73,
   "metadata": {},
   "outputs": [
    {
     "ename": "SyntaxError",
     "evalue": "invalid syntax (3466584874.py, line 24)",
     "output_type": "error",
     "traceback": [
      "\u001b[1;36m  Input \u001b[1;32mIn [73]\u001b[1;36m\u001b[0m\n\u001b[1;33m    print([x['tipo_titulo'], x['pu'], x['pu_calc'] for x in clean_mercado if x['tipo_titulo'] in ['LTN','NTN-B']])\u001b[0m\n\u001b[1;37m                                                   ^\u001b[0m\n\u001b[1;31mSyntaxError\u001b[0m\u001b[1;31m:\u001b[0m invalid syntax\n"
     ]
    }
   ],
   "source": [
    "for titulo in clean_mercado:\n",
    "  data_liqui=datetime.strptime(titulo['data_referencia'], \"%Y-%m-%d\").date()\n",
    "  data_venc=datetime.strptime(titulo['data_vencimento'], \"%Y-%m-%d\").date()\n",
    "\n",
    "  if titulo['tipo_titulo'] == 'LTN':\n",
    "    pu_calc = calcular_ltn(\n",
    "      taxa_anual=titulo['taxa_indicativa']/100,\n",
    "      data_liqui=data_liqui,\n",
    "      data_venc=data_venc)\n",
    "    titulo['pu_calc']=pu_calc\n",
    "\n",
    "  elif titulo['tipo_titulo'] == 'NTN-B':\n",
    "    pu_calc, pm, dur = calcular_ntnb(\n",
    "      data_liqui=data_liqui,\n",
    "      data_venc=data_venc,\n",
    "      taxa=titulo['taxa_indicativa']/100,\n",
    "      # taxa_cupom=titulo['taxa_indicativa']/100, Esse deve ser um valor fixo para o NTN-B. Toda taxa cupom é fixa para um tipo de titulo\n",
    "      # infla_proj=0.0094\n",
    "      )\n",
    "    titulo['pu_calc']=pu_calc\n",
    "    titulo['prazo_medio']=pm\n",
    "    titulo['duration']=dur\n",
    "\n"
   ]
  },
  {
   "cell_type": "code",
   "execution_count": 74,
   "metadata": {},
   "outputs": [],
   "source": [
    "t =[x for x in clean_mercado if x['tipo_titulo'] in ['LTN','NTN-B']]"
   ]
  },
  {
   "cell_type": "code",
   "execution_count": 76,
   "metadata": {},
   "outputs": [
    {
     "name": "stdout",
     "output_type": "stream",
     "text": [
      "LTN 986.696496 (986.6964968762362, 48, 73)\n",
      "LTN 970.982414 (970.9824147548106, 109, 163)\n",
      "LTN 954.999495 (954.9994953886635, 172, 254)\n",
      "NTN-B 3127.950824 9510536.50904366\n",
      "LTN 938.119221 (937.8653345011708, 237, 346)\n",
      "LTN 920.958993 (920.958993577912, 298, 438)\n",
      "LTN 902.67683 (902.4194136427137, 360, 528)\n",
      "NTN-B 3238.274966 9845962.943987137\n",
      "LTN 883.262368 (883.0019750547143, 422, 619)\n",
      "LTN 861.87865 (861.6156307707371, 488, 711)\n",
      "LTN 842.202192 (842.2021922041295, 551, 803)\n",
      "LTN 803.072295 (802.8110295218422, 675, 985)\n",
      "NTN-B 3227.183797 9813087.214232948\n",
      "NTN-B 3287.138181 9995428.955494266\n",
      "LTN 726.164401 (725.9132482200565, 926, 1350)\n",
      "NTN-B 3258.531943 9907054.202601187\n",
      "NTN-B 3254.422094 9894496.944431322\n",
      "NTN-B 3321.33068 10098109.444787432\n",
      "NTN-B 3318.513445 10089377.309074169\n",
      "NTN-B 3329.224966 10123073.802905532\n",
      "NTN-B 3369.672632 10244897.680772386\n",
      "NTN-B 3456.98885 10510816.50581708\n",
      "NTN-B 3463.102401 10529047.221082088\n",
      "NTN-B 3488.327957 10606282.537430994\n",
      "NTN-B 3487.035343 10601850.006787786\n",
      "NTN-B 3577.298359 10877216.006096069\n"
     ]
    }
   ],
   "source": [
    "for x in t: print(x['tipo_titulo'], x['pu'], x['pu_calc'])"
   ]
  }
 ],
 "metadata": {
  "interpreter": {
   "hash": "11938c6bc6919ae2720b4d5011047913343b08a43b18698fd82dedb0d4417594"
  },
  "kernelspec": {
   "display_name": "Python 3.9.7 64-bit",
   "language": "python",
   "name": "python3"
  },
  "language_info": {
   "codemirror_mode": {
    "name": "ipython",
    "version": 3
   },
   "file_extension": ".py",
   "mimetype": "text/x-python",
   "name": "python",
   "nbconvert_exporter": "python",
   "pygments_lexer": "ipython3",
   "version": "3.9.7"
  },
  "orig_nbformat": 4
 },
 "nbformat": 4,
 "nbformat_minor": 2
}
