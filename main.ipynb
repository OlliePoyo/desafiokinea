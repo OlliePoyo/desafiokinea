{
 "cells": [
  {
   "cell_type": "markdown",
   "metadata": {},
   "source": [
    "# Desafio Kinea\n"
   ]
  },
  {
   "cell_type": "markdown",
   "metadata": {},
   "source": [
    "## Importando e definindo constantes globais"
   ]
  },
  {
   "cell_type": "code",
   "execution_count": 1,
   "metadata": {},
   "outputs": [],
   "source": [
    "import pandas as pd\n",
    "from typing import Dict, List\n",
    "import csv\n",
    "from dateutil.relativedelta import relativedelta"
   ]
  },
  {
   "cell_type": "code",
   "execution_count": 2,
   "metadata": {},
   "outputs": [],
   "source": [
    "from ambima_connect import AmbimaConnect"
   ]
  },
  {
   "cell_type": "code",
   "execution_count": 3,
   "metadata": {},
   "outputs": [],
   "source": [
    "import logging\n",
    "logging.level=logging.INFO"
   ]
  },
  {
   "cell_type": "code",
   "execution_count": 4,
   "metadata": {},
   "outputs": [],
   "source": [
    "from datetime import date, datetime\n",
    "from cal import AmbimaCalendar"
   ]
  },
  {
   "cell_type": "markdown",
   "metadata": {},
   "source": [
    "## Funções básicas"
   ]
  },
  {
   "cell_type": "code",
   "execution_count": 5,
   "metadata": {},
   "outputs": [],
   "source": [
    "def dias_uteis(start_date, end_date) -> int:\n",
    "  \"\"\"O formato de data é date(AAAA, MM, DD), como date(2022, 2, 4) para 4 de fev de 2022\"\"\"\n",
    "  interval = AmbimaCalendar().get_working_days_delta(start_date, end_date)+1\n",
    "  return interval"
   ]
  },
  {
   "cell_type": "code",
   "execution_count": 6,
   "metadata": {},
   "outputs": [],
   "source": [
    "def check_error(acquired_value, expected_value):\n",
    "  err = abs((acquired_value-expected_value)/expected_value)*100\n",
    "  err_str = f'{err:0.3}%'\n",
    "  return err_str"
   ]
  },
  {
   "cell_type": "markdown",
   "metadata": {},
   "source": [
    "## Interface com API Ambima"
   ]
  },
  {
   "cell_type": "code",
   "execution_count": 7,
   "metadata": {},
   "outputs": [],
   "source": [
    "# data_res = get_data(client_id, access_token, adress_vna)\n",
    "data_list = AmbimaConnect('titulos publicos').content\n",
    "data_vna = AmbimaConnect('vna').content"
   ]
  },
  {
   "cell_type": "code",
   "execution_count": 8,
   "metadata": {},
   "outputs": [],
   "source": [
    "def save_to_csv(filedata:List[Dict], filename:str):\n",
    "  \"\"\"Take a list of dicts and save as an .csv with the given name\"\"\"\n",
    "  keys = filedata[0].keys()\n",
    "  with open('exports\\\\'+filename, 'w', newline='') as output_file:\n",
    "      dict_writer = csv.DictWriter(output_file, keys)\n",
    "      dict_writer.writeheader()\n",
    "      dict_writer.writerows(filedata)"
   ]
  },
  {
   "cell_type": "code",
   "execution_count": 9,
   "metadata": {},
   "outputs": [],
   "source": [
    "def clean_mercado_secundario(list_to_clean:List[Dict]):\n",
    "  keep_keys = ['tipo_titulo','data_referencia','data_vencimento','taxa_indicativa','pu']\n",
    "  res = [{key : val for key, val in sub.items() if key in keep_keys} for sub in list_to_clean]\n",
    "  return res"
   ]
  },
  {
   "cell_type": "code",
   "execution_count": 10,
   "metadata": {},
   "outputs": [],
   "source": [
    "clean_mercado = clean_mercado_secundario(data_list)"
   ]
  },
  {
   "cell_type": "markdown",
   "metadata": {},
   "source": [
    "## Cálculo de PUs"
   ]
  },
  {
   "cell_type": "code",
   "execution_count": 11,
   "metadata": {},
   "outputs": [],
   "source": [
    "def get_dias_cupom(start_date, end_date):\n",
    "  \"\"\"Retorna uma listagem de cupons entre duas datas, indo da data final até a inicial, de 6 em 6 meses\"\"\"\n",
    "  pgto_date_list = list()\n",
    "  pgto_date = end_date\n",
    "  # Gera da lista de datas a partir da data final, em incrementos de 6 meses\n",
    "  while pgto_date > start_date:\n",
    "    pgto_date_list.append(pgto_date)\n",
    "    pgto_date -= relativedelta(months=6)\n",
    "  # Inverte a ordem da lista para crescente\n",
    "  pgto_date_list=pgto_date_list[::-1]\n",
    "  \n",
    "  return pgto_date_list"
   ]
  },
  {
   "cell_type": "code",
   "execution_count": 30,
   "metadata": {},
   "outputs": [
    {
     "data": {
      "text/plain": [
       "{'tipo_titulo': 'LFT',\n",
       " 'data_vencimento': '2018-03-01',\n",
       " 'data_referencia': '2017-10-20',\n",
       " 'taxa_indicativa': 0,\n",
       " 'pu': 9162.202647}"
      ]
     },
     "execution_count": 30,
     "metadata": {},
     "output_type": "execute_result"
    }
   ],
   "source": [
    "[x for x in clean_mercado if x['tipo_titulo']=='LFT'][0]"
   ]
  },
  {
   "cell_type": "markdown",
   "metadata": {},
   "source": [
    "LTN"
   ]
  },
  {
   "cell_type": "code",
   "execution_count": 21,
   "metadata": {},
   "outputs": [],
   "source": [
    "class LTN:\n",
    "  def __init__(self, data_venc, taxa, data_ref):\n",
    "    self.data_venc = data_venc\n",
    "    self.taxa = taxa\n",
    "    self.data_ref = data_ref\n",
    "\n",
    "    self.duration = dias_uteis(data_ref, data_venc)\n",
    "    self.pm = (data_venc - data_ref).days\n",
    "    self.pu = 1000/((1+taxa)**(self.duration/252))"
   ]
  },
  {
   "cell_type": "code",
   "execution_count": 17,
   "metadata": {},
   "outputs": [
    {
     "data": {
      "text/plain": [
       "986.6964968762362"
      ]
     },
     "execution_count": 17,
     "metadata": {},
     "output_type": "execute_result"
    }
   ],
   "source": [
    "LTN(date(2018,1,1), 7.2843/100, date(2017,10,20)).pu"
   ]
  },
  {
   "cell_type": "markdown",
   "metadata": {},
   "source": [
    "NTN-F"
   ]
  },
  {
   "cell_type": "code",
   "execution_count": 22,
   "metadata": {},
   "outputs": [],
   "source": [
    "class NTNF():\n",
    "  def __init__(self, data_venc, taxa, data_ref):\n",
    "    self.data_venc = data_venc\n",
    "    self.taxa = taxa\n",
    "    self.data_ref = data_ref\n",
    "    \n",
    "    lista_datas = get_dias_cupom(data_ref, data_venc)\n",
    "    self.fluxo_pgto = pd.DataFrame(lista_datas, columns=['data_pgto'])\n",
    "    self.fluxo_pgto['cupom_semestral'] = [(1.1**(1/2)-1)*1000]*len(lista_datas)\n",
    "    self.fluxo_pgto['cupom_semestral'].iloc[-1] = self.fluxo_pgto['cupom_semestral'].iloc[-1] + 1000\n",
    "    self.fluxo_pgto['dias_uteis'] = self.fluxo_pgto['data_pgto'].apply(lambda x: dias_uteis(data_ref, x))\n",
    "    self.fluxo_pgto['dias_corridos'] = self.fluxo_pgto['data_pgto'].apply(lambda x: (x - data_ref).days)\n",
    "    self.fluxo_pgto['vp_pgto'] = self.fluxo_pgto.apply(lambda x: (x['cupom_semestral'])/((1+taxa)**(x['dias_uteis']/252)), axis=1)\n",
    "\n",
    "    self.pu = self.fluxo_pgto['vp_pgto'].sum()\n",
    "    self.duration = (self.fluxo_pgto['vp_pgto']*self.fluxo_pgto['dias_uteis']).sum()/self.pu\n",
    "    self.pm = (self.fluxo_pgto['cupom_semestral']*self.fluxo_pgto['dias_corridos']).sum()/self.fluxo_pgto['cupom_semestral'].sum()"
   ]
  },
  {
   "cell_type": "code",
   "execution_count": 20,
   "metadata": {},
   "outputs": [
    {
     "name": "stderr",
     "output_type": "stream",
     "text": [
      "C:\\Users\\HP\\AppData\\Roaming\\Python\\Python39\\site-packages\\pandas\\core\\indexing.py:1732: SettingWithCopyWarning: \n",
      "A value is trying to be set on a copy of a slice from a DataFrame\n",
      "\n",
      "See the caveats in the documentation: https://pandas.pydata.org/pandas-docs/stable/user_guide/indexing.html#returning-a-view-versus-a-copy\n",
      "  self._setitem_single_block(indexer, value, name)\n"
     ]
    },
    {
     "data": {
      "text/plain": [
       "1034.826805594595"
      ]
     },
     "execution_count": 20,
     "metadata": {},
     "output_type": "execute_result"
    }
   ],
   "source": [
    "NTNF(date(2018,1,1), 7.3002/100, date(2017,10,20)).pu"
   ]
  },
  {
   "cell_type": "markdown",
   "metadata": {},
   "source": [
    "NTN-B"
   ]
  },
  {
   "cell_type": "code",
   "execution_count": 23,
   "metadata": {},
   "outputs": [],
   "source": [
    "class NTNB():\n",
    "  def __init__(self, data_venc, taxa, data_ref):\n",
    "    self.data_venc = data_venc\n",
    "    self.taxa = taxa\n",
    "    self.data_ref = data_ref\n",
    "  # d15_base = data_liqui.replace(day=15)\n",
    "  # d15_proj = d15_base + relativedelta(months=1)\n",
    "  \n",
    "  # VNA deveria puxar dados de um banco, porém ainda não existe esse banco e o API tem só uma data em sandbox\n",
    "    self.vna = [x['vna'] for x in data_vna[0]['titulos'] if x['codigo_selic']=='760100'][0]\n",
    "\n",
    "    lista_datas = get_dias_cupom(data_ref, data_venc)\n",
    "    self.fluxo_pgto = pd.DataFrame(lista_datas, columns=['data_pgto'])\n",
    "    self.fluxo_pgto['fluxo'] = [(1.06**(1/2)-1)]*len(lista_datas)\n",
    "    self.fluxo_pgto['fluxo'].iloc[-1] = self.fluxo_pgto['fluxo'].iloc[-1] + 1\n",
    "    self.fluxo_pgto['dias_uteis'] = self.fluxo_pgto['data_pgto'].apply(lambda x: dias_uteis(data_ref, x))\n",
    "    self.fluxo_pgto['dias_corridos'] = self.fluxo_pgto['data_pgto'].apply(lambda x: (x - data_ref).days)\n",
    "    self.fluxo_pgto['vf_fluxo_taxa'] = self.fluxo_pgto.apply(lambda x: ((1+taxa)**(x['dias_uteis']/252)), axis=1)\n",
    "    self.fluxo_pgto['cotacao'] = self.fluxo_pgto.apply(lambda x: x['fluxo']/x['vf_fluxo_taxa'], axis=1)\n",
    "\n",
    "    self.fluxo_pgto['cupom_semestral'] = self.fluxo_pgto['fluxo']*self.vna\n",
    "    self.fluxo_pgto['vp_pgto'] = self.fluxo_pgto['cupom_semestral']/self.fluxo_pgto['vf_fluxo_taxa']\n",
    "\n",
    "    self.pu = self.fluxo_pgto['cotacao'].sum()*self.vna\n",
    "    self.duration = (self.fluxo_pgto['vp_pgto']*self.fluxo_pgto['dias_uteis']).sum()/self.fluxo_pgto['vp_pgto'].sum()\n",
    "    self.pm = (self.fluxo_pgto['cupom_semestral']*self.fluxo_pgto['dias_corridos']).sum()/self.fluxo_pgto['cupom_semestral'].sum()"
   ]
  },
  {
   "cell_type": "code",
   "execution_count": 26,
   "metadata": {},
   "outputs": [
    {
     "name": "stderr",
     "output_type": "stream",
     "text": [
      "C:\\Users\\HP\\AppData\\Roaming\\Python\\Python39\\site-packages\\pandas\\core\\indexing.py:1732: SettingWithCopyWarning: \n",
      "A value is trying to be set on a copy of a slice from a DataFrame\n",
      "\n",
      "See the caveats in the documentation: https://pandas.pydata.org/pandas-docs/stable/user_guide/indexing.html#returning-a-view-versus-a-copy\n",
      "  self._setitem_single_block(indexer, value, name)\n"
     ]
    },
    {
     "data": {
      "text/plain": [
       "3127.6391868892265"
      ]
     },
     "execution_count": 26,
     "metadata": {},
     "output_type": "execute_result"
    }
   ],
   "source": [
    "NTNB(date(2018,8,15), 2.55/100, date(2017,10,20)).pu"
   ]
  },
  {
   "cell_type": "markdown",
   "metadata": {},
   "source": [
    "LFT"
   ]
  },
  {
   "cell_type": "code",
   "execution_count": 28,
   "metadata": {},
   "outputs": [],
   "source": [
    "class LFT:\n",
    "  def __init__(self, data_venc, taxa, data_ref):\n",
    "    self.data_venc = data_venc\n",
    "    self.taxa = taxa\n",
    "    self.data_ref = data_ref\n",
    "    \n",
    "    self.duration = dias_uteis(data_ref, data_venc)\n",
    "    self.pm = (data_venc - data_ref).days\n",
    "\n",
    "    self.vna = [x['vna'] for x in data_vna[0]['titulos'] if x['codigo_selic']=='210100'][0]\n",
    "    self.cotacao = (1+taxa)**(-self.duration/252)\n",
    "    self.pu = self.vna*self.cotacao"
   ]
  },
  {
   "cell_type": "code",
   "execution_count": 31,
   "metadata": {},
   "outputs": [
    {
     "data": {
      "text/plain": [
       "9162.202647"
      ]
     },
     "execution_count": 31,
     "metadata": {},
     "output_type": "execute_result"
    }
   ],
   "source": [
    "LFT(date(2018,3,1),0,date(2017,10,20)).pu"
   ]
  },
  {
   "cell_type": "markdown",
   "metadata": {},
   "source": [
    "## Cálculo Geral"
   ]
  },
  {
   "cell_type": "code",
   "execution_count": 32,
   "metadata": {},
   "outputs": [
    {
     "name": "stderr",
     "output_type": "stream",
     "text": [
      "C:\\Users\\HP\\AppData\\Roaming\\Python\\Python39\\site-packages\\pandas\\core\\indexing.py:1732: SettingWithCopyWarning: \n",
      "A value is trying to be set on a copy of a slice from a DataFrame\n",
      "\n",
      "See the caveats in the documentation: https://pandas.pydata.org/pandas-docs/stable/user_guide/indexing.html#returning-a-view-versus-a-copy\n",
      "  self._setitem_single_block(indexer, value, name)\n"
     ]
    }
   ],
   "source": [
    "for titulo in clean_mercado:\n",
    "  data_ref=datetime.strptime(titulo['data_referencia'], \"%Y-%m-%d\").date()\n",
    "  data_venc=datetime.strptime(titulo['data_vencimento'], \"%Y-%m-%d\").date()\n",
    "\n",
    "  if titulo['tipo_titulo'] == 'LTN':\n",
    "    calc = LTN(\n",
    "      data_venc=data_venc,\n",
    "      taxa=titulo['taxa_indicativa']/100,\n",
    "      data_ref=data_ref,\n",
    "      )\n",
    "\n",
    "  elif titulo['tipo_titulo'] == 'NTN-B':\n",
    "    calc = NTNB(\n",
    "      data_venc=data_venc,\n",
    "      taxa=titulo['taxa_indicativa']/100,\n",
    "      data_ref=data_ref,\n",
    "      )\n",
    "\n",
    "  elif titulo['tipo_titulo'] == 'NTN-F':\n",
    "    calc = NTNF(\n",
    "      data_venc=data_venc,\n",
    "      taxa=titulo['taxa_indicativa']/100,\n",
    "      data_ref=data_ref,\n",
    "      )\n",
    "\n",
    "  elif titulo['tipo_titulo'] == 'LFT':\n",
    "    calc = LFT(\n",
    "      data_venc=data_venc,\n",
    "      taxa=titulo['taxa_indicativa']/100,\n",
    "      data_ref=data_ref,\n",
    "      )\n",
    "\n",
    "  titulo['pu_calc']=calc.pu\n",
    "  titulo['pm_calc']=calc.pm\n",
    "  titulo['duration_calc']=calc.duration"
   ]
  },
  {
   "cell_type": "code",
   "execution_count": 35,
   "metadata": {},
   "outputs": [
    {
     "name": "stdout",
     "output_type": "stream",
     "text": [
      "Tipo, Data Venc, Real, Calc, Error\n",
      "LTN, 2017-10-20, 986.696496, 986.6964968762362, 8.88e-08%\n",
      "NTN-F, 2017-10-20, 1034.826807, 1034.826805594595, 1.36e-07%\n",
      "LFT, 2017-10-20, 9162.202647, 9162.202647, 0.0%\n",
      "LTN, 2017-10-20, 970.982414, 970.9824147548106, 7.77e-08%\n",
      "LTN, 2017-10-20, 954.999495, 954.9994953886635, 4.07e-08%\n",
      "NTN-B, 2017-10-20, 3127.950824, 3127.6391868892265, 0.00996%\n",
      "LFT, 2017-10-20, 9162.202647, 9162.202647, 0.0%\n",
      "LTN, 2017-10-20, 938.119221, 937.8653345011708, 0.0271%\n",
      "LTN, 2017-10-20, 920.958993, 920.958993577912, 6.28e-08%\n",
      "NTN-F, 2017-10-20, 1060.800212, 1060.8002073544483, 4.38e-07%\n",
      "LFT, 2017-10-20, 9162.001078, 9162.004281775411, 3.5e-05%\n",
      "LTN, 2017-10-20, 902.67683, 902.4194136427137, 0.0285%\n",
      "NTN-B, 2017-10-20, 3238.274966, 3237.9476706693135, 0.0101%\n",
      "LTN, 2017-10-20, 883.262368, 883.0019750547143, 0.0295%\n",
      "LTN, 2017-10-20, 861.87865, 861.6156307707371, 0.0305%\n",
      "LTN, 2017-10-20, 842.202192, 842.2021922041295, 2.42e-08%\n",
      "LFT, 2017-10-20, 9161.55213, 9161.558052944505, 6.47e-05%\n",
      "LTN, 2017-10-20, 803.072295, 802.8110295218422, 0.0325%\n",
      "NTN-B, 2017-10-20, 3227.183797, 3227.136143834944, 0.00148%\n",
      "LFT, 2017-10-20, 9161.286426, 9161.287760955387, 1.46e-05%\n",
      "NTN-F, 2017-10-20, 1064.552527, 1064.5255159803544, 0.00254%\n",
      "LFT, 2017-10-20, 9160.580937, 9160.582250477613, 1.43e-05%\n",
      "NTN-B, 2017-10-20, 3287.138181, 3287.1011284425113, 0.00113%\n",
      "LTN, 2017-10-20, 726.164401, 725.9132482200565, 0.0346%\n",
      "LFT, 2017-10-20, 9160.397693, 9160.40424174808, 7.15e-05%\n",
      "LFT, 2017-10-20, 9160.251097, 9160.255679031927, 5e-05%\n",
      "NTN-B, 2017-10-20, 3258.531943, 3258.0381686381716, 0.0152%\n",
      "LFT, 2017-10-20, 9160.022042, 9160.025917796016, 4.23e-05%\n",
      "NTN-F, 2017-10-20, 1059.303328, 1059.2511847484277, 0.00492%\n",
      "LFT, 2017-10-20, 9159.902934, 9159.904621628351, 1.84e-05%\n",
      "NTN-B, 2017-10-20, 3254.422094, 3253.908583236275, 0.0158%\n",
      "NTN-B, 2017-10-20, 3321.33068, 3320.8686789625986, 0.0139%\n",
      "LFT, 2017-10-20, 9159.948745, 9159.953649554503, 5.35e-05%\n",
      "NTN-B, 2017-10-20, 3318.513445, 3317.997025001115, 0.0156%\n",
      "NTN-F, 2017-10-20, 1057.013236, 1056.9506876447217, 0.00592%\n",
      "NTN-B, 2017-10-20, 3329.224966, 3329.078468668097, 0.0044%\n",
      "NTN-F, 2017-10-20, 1053.368909, 1053.288916324092, 0.00759%\n",
      "NTN-B, 2017-10-20, 3369.672632, 3369.1415223089575, 0.0158%\n",
      "NTN-B, 2017-10-20, 3456.98885, 3456.5917031636814, 0.0115%\n",
      "NTN-B, 2017-10-20, 3463.102401, 3462.5870641418596, 0.0149%\n",
      "NTN-B, 2017-10-20, 3488.327957, 3487.9867039828846, 0.00978%\n",
      "NTN-B, 2017-10-20, 3487.035343, 3486.529020021143, 0.0145%\n",
      "NTN-B, 2017-10-20, 3577.298359, 3577.0860027270646, 0.00594%\n"
     ]
    }
   ],
   "source": [
    "t =[x for x in clean_mercado if x['tipo_titulo'] in ['NTN-F', 'NTN-B', 'LFT', 'LTN']]\n",
    "print('Tipo, Data Venc, Real, Calc, Error')\n",
    "for x in t: print(f\"{x['tipo_titulo']}, {x['data_referencia']}, {x['pu']}, {x['pu_calc']}, {check_error(x['pu_calc'], x['pu'])}\")"
   ]
  }
 ],
 "metadata": {
  "interpreter": {
   "hash": "11938c6bc6919ae2720b4d5011047913343b08a43b18698fd82dedb0d4417594"
  },
  "kernelspec": {
   "display_name": "Python 3.9.7 64-bit",
   "language": "python",
   "name": "python3"
  },
  "language_info": {
   "codemirror_mode": {
    "name": "ipython",
    "version": 3
   },
   "file_extension": ".py",
   "mimetype": "text/x-python",
   "name": "python",
   "nbconvert_exporter": "python",
   "pygments_lexer": "ipython3",
   "version": "3.9.7"
  },
  "orig_nbformat": 4
 },
 "nbformat": 4,
 "nbformat_minor": 2
}
