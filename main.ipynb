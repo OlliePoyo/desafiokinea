{
 "cells": [
  {
   "cell_type": "markdown",
   "metadata": {},
   "source": [
    "# Desafio Kinea\n"
   ]
  },
  {
   "cell_type": "markdown",
   "metadata": {},
   "source": [
    "## Importando e definindo constantes globais"
   ]
  },
  {
   "cell_type": "code",
   "execution_count": null,
   "metadata": {},
   "outputs": [],
   "source": [
    "from typing import Dict, List\n",
    "from datetime import datetime"
   ]
  },
  {
   "cell_type": "code",
   "execution_count": null,
   "metadata": {},
   "outputs": [],
   "source": [
    "from ambima_connect import AmbimaConnect\n",
    "import utils"
   ]
  },
  {
   "cell_type": "code",
   "execution_count": null,
   "metadata": {},
   "outputs": [],
   "source": [
    "import logging\n",
    "logging.level=logging.INFO"
   ]
  },
  {
   "cell_type": "code",
   "execution_count": null,
   "metadata": {},
   "outputs": [],
   "source": [
    "from titulos import LTN, NTNB, NTNF, LFT"
   ]
  },
  {
   "cell_type": "markdown",
   "metadata": {},
   "source": [
    "## Interface com API Ambima"
   ]
  },
  {
   "cell_type": "code",
   "execution_count": null,
   "metadata": {},
   "outputs": [],
   "source": [
    "data_list = AmbimaConnect('titulos publicos').content"
   ]
  },
  {
   "cell_type": "code",
   "execution_count": null,
   "metadata": {},
   "outputs": [],
   "source": [
    "def clean_mercado_secundario(list_to_clean:List[Dict]):\n",
    "  keep_keys = ['tipo_titulo','data_referencia','data_vencimento','taxa_indicativa','pu']\n",
    "  res = [{key : val for key, val in sub.items() if key in keep_keys} for sub in list_to_clean]\n",
    "  return res"
   ]
  },
  {
   "cell_type": "code",
   "execution_count": null,
   "metadata": {},
   "outputs": [],
   "source": [
    "clean_mercado = clean_mercado_secundario(data_list)"
   ]
  },
  {
   "cell_type": "markdown",
   "metadata": {},
   "source": [
    "## Cálculo Geral"
   ]
  },
  {
   "cell_type": "code",
   "execution_count": null,
   "metadata": {},
   "outputs": [],
   "source": [
    "for titulo in clean_mercado:\n",
    "  data_ref=datetime.strptime(titulo['data_referencia'], \"%Y-%m-%d\").date()\n",
    "  data_venc=datetime.strptime(titulo['data_vencimento'], \"%Y-%m-%d\").date()\n",
    "\n",
    "  if titulo['tipo_titulo'] == 'LTN':\n",
    "    calc = LTN(\n",
    "      data_venc=data_venc,\n",
    "      taxa=titulo['taxa_indicativa']/100,\n",
    "      data_ref=data_ref,\n",
    "      )\n",
    "\n",
    "  elif titulo['tipo_titulo'] == 'NTN-B':\n",
    "    calc = NTNB(\n",
    "      data_venc=data_venc,\n",
    "      taxa=titulo['taxa_indicativa']/100,\n",
    "      data_ref=data_ref,\n",
    "      )\n",
    "\n",
    "  elif titulo['tipo_titulo'] == 'NTN-F':\n",
    "    calc = NTNF(\n",
    "      data_venc=data_venc,\n",
    "      taxa=titulo['taxa_indicativa']/100,\n",
    "      data_ref=data_ref,\n",
    "      )\n",
    "\n",
    "  elif titulo['tipo_titulo'] == 'LFT':\n",
    "    calc = LFT(\n",
    "      data_venc=data_venc,\n",
    "      taxa=titulo['taxa_indicativa']/100,\n",
    "      data_ref=data_ref,\n",
    "      )\n",
    "\n",
    "  titulo['pu_calc']=calc.pu\n",
    "  titulo['pm_calc']=calc.pm\n",
    "  titulo['duration_calc']=calc.duration"
   ]
  },
  {
   "cell_type": "code",
   "execution_count": null,
   "metadata": {},
   "outputs": [],
   "source": [
    "t =[x for x in clean_mercado if x['tipo_titulo'] in ['NTN-F', 'NTN-B', 'LFT', 'LTN']]\n",
    "print('Tipo, Data Venc, Real, Calc, Error')\n",
    "for x in t: print(f\"{x['tipo_titulo']}, {x['data_referencia']}, {x['pu']}, {x['pu_calc']}, {utils.check_error(x['pu_calc'], x['pu'])}\")"
   ]
  }
 ],
 "metadata": {
  "interpreter": {
   "hash": "11938c6bc6919ae2720b4d5011047913343b08a43b18698fd82dedb0d4417594"
  },
  "kernelspec": {
   "display_name": "Python 3.9.7 64-bit",
   "language": "python",
   "name": "python3"
  },
  "language_info": {
   "codemirror_mode": {
    "name": "ipython",
    "version": 3
   },
   "file_extension": ".py",
   "mimetype": "text/x-python",
   "name": "python",
   "nbconvert_exporter": "python",
   "pygments_lexer": "ipython3",
   "version": "3.9.7"
  },
  "orig_nbformat": 4
 },
 "nbformat": 4,
 "nbformat_minor": 2
}
