{
 "cells": [
  {
   "cell_type": "markdown",
   "metadata": {},
   "source": [
    "# Desafio Kinea\n"
   ]
  },
  {
   "cell_type": "markdown",
   "metadata": {},
   "source": [
    "## Importando e definindo constantes globais"
   ]
  },
  {
   "cell_type": "code",
   "execution_count": 1,
   "metadata": {},
   "outputs": [],
   "source": [
    "import requests\n",
    "import base64 as b64\n",
    "import json\n",
    "import pandas as pd\n",
    "from typing import Dict, List\n",
    "import csv\n",
    "from dateutil.relativedelta import relativedelta"
   ]
  },
  {
   "cell_type": "code",
   "execution_count": 68,
   "metadata": {},
   "outputs": [],
   "source": [
    "from ambima_connect import AmbimaConnect"
   ]
  },
  {
   "cell_type": "code",
   "execution_count": 2,
   "metadata": {},
   "outputs": [],
   "source": [
    "import logging\n",
    "logging.level=logging.INFO"
   ]
  },
  {
   "cell_type": "code",
   "execution_count": 3,
   "metadata": {},
   "outputs": [],
   "source": [
    "from datetime import date, datetime\n",
    "from cal import AmbimaCalendar"
   ]
  },
  {
   "cell_type": "markdown",
   "metadata": {},
   "source": [
    "## Funções básicas"
   ]
  },
  {
   "cell_type": "code",
   "execution_count": 5,
   "metadata": {},
   "outputs": [],
   "source": [
    "def dias_uteis(start_date, end_date) -> int:\n",
    "  \"\"\"O formato de data é date(AAAA, MM, DD), como date(2022, 2, 4) para 4 de fev de 2022\"\"\"\n",
    "  interval = AmbimaCalendar().get_working_days_delta(start_date, end_date)+1\n",
    "  return interval"
   ]
  },
  {
   "cell_type": "code",
   "execution_count": 7,
   "metadata": {},
   "outputs": [],
   "source": [
    "def check_error(acquired_value, expected_value):\n",
    "  err = abs((acquired_value-expected_value)/expected_value)*100\n",
    "  err_str = f'{err:0.3}%'\n",
    "  return err_str"
   ]
  },
  {
   "cell_type": "markdown",
   "metadata": {},
   "source": [
    "## Interface com API Ambima"
   ]
  },
  {
   "cell_type": "code",
   "execution_count": null,
   "metadata": {},
   "outputs": [],
   "source": [
    "# data_res = get_data(client_id, access_token, adress_vna)\n",
    "data_list = AmbimaConnect('titulos publicos').content\n",
    "data_vna = AmbimaConnect('vna').content"
   ]
  },
  {
   "cell_type": "code",
   "execution_count": 14,
   "metadata": {},
   "outputs": [],
   "source": [
    "def save_to_csv(filedata:List[Dict], filename:str):\n",
    "  \"\"\"Take a list of dicts and save as an .csv with the given name\"\"\"\n",
    "  keys = filedata[0].keys()\n",
    "  with open('exports\\\\'+filename, 'w', newline='') as output_file:\n",
    "      dict_writer = csv.DictWriter(output_file, keys)\n",
    "      dict_writer.writeheader()\n",
    "      dict_writer.writerows(filedata)"
   ]
  },
  {
   "cell_type": "code",
   "execution_count": 67,
   "metadata": {},
   "outputs": [],
   "source": [
    "def clean_mercado_secundario(list_to_clean:List[Dict]):\n",
    "  keep_keys = ['tipo_titulo','data_referencia','data_vencimento','taxa_indicativa','pu']\n",
    "  res = [{key : val for key, val in sub.items() if key in keep_keys} for sub in list_to_clean]\n",
    "  return res"
   ]
  },
  {
   "cell_type": "code",
   "execution_count": 16,
   "metadata": {},
   "outputs": [],
   "source": [
    "clean_mercado = clean_mercado_secundario(data_list)"
   ]
  },
  {
   "cell_type": "markdown",
   "metadata": {},
   "source": [
    "## Cálculo de PUs"
   ]
  },
  {
   "cell_type": "code",
   "execution_count": 17,
   "metadata": {},
   "outputs": [],
   "source": [
    "def get_dias_cupom(start_date, end_date):\n",
    "  \"\"\"Retorna uma listagem de cupons entre duas datas, indo da data final até a inicial, de 6 em 6 meses\"\"\"\n",
    "  pgto_date_list = list()\n",
    "  pgto_date = end_date\n",
    "  # Gera da lista de datas a partir da data final, em incrementos de 6 meses\n",
    "  while pgto_date > start_date:\n",
    "    pgto_date_list.append(pgto_date)\n",
    "    pgto_date -= relativedelta(months=6)\n",
    "  # Inverte a ordem da lista para crescente\n",
    "  pgto_date_list=pgto_date_list[::-1]\n",
    "  \n",
    "  return pgto_date_list"
   ]
  },
  {
   "cell_type": "markdown",
   "metadata": {},
   "source": [
    "LTN"
   ]
  },
  {
   "cell_type": "code",
   "execution_count": 61,
   "metadata": {},
   "outputs": [],
   "source": [
    "def calcular_ltn(data_venc, taxa, data_ref):\n",
    "  duration = dias_uteis(data_ref, data_venc)\n",
    "  pm = (data_venc - data_ref).days\n",
    "  pu = 1000/((1+taxa)**(duration/252))\n",
    "  return pu, duration, pm"
   ]
  },
  {
   "cell_type": "markdown",
   "metadata": {},
   "source": [
    "NTN-F"
   ]
  },
  {
   "cell_type": "code",
   "execution_count": 60,
   "metadata": {},
   "outputs": [],
   "source": [
    "def calcular_ntnf(data_venc, taxa, data_ref):\n",
    "  lista_datas = get_dias_cupom(data_ref, data_venc)\n",
    "  fluxo_pgto = pd.DataFrame(lista_datas, columns=['data_pgto'])\n",
    "  fluxo_pgto['cupom_semestral'] = [(1.1**(1/2)-1)*1000]*len(lista_datas)\n",
    "  fluxo_pgto['cupom_semestral'].iloc[-1] = fluxo_pgto['cupom_semestral'].iloc[-1] + 1000\n",
    "  fluxo_pgto['dias_uteis'] = fluxo_pgto['data_pgto'].apply(lambda x: dias_uteis(data_ref, x))\n",
    "  fluxo_pgto['dias_corridos'] = fluxo_pgto['data_pgto'].apply(lambda x: (x - data_ref).days)\n",
    "  fluxo_pgto['vp_pgto'] = fluxo_pgto.apply(lambda x: (x['cupom_semestral'])/((1+taxa)**(x['dias_uteis']/252)), axis=1)\n",
    "\n",
    "  pu = fluxo_pgto['vp_pgto'].sum()\n",
    "  duration = (fluxo_pgto['vp_pgto']*fluxo_pgto['dias_uteis']).sum()/pu\n",
    "  pm = (fluxo_pgto['cupom_semestral']*fluxo_pgto['dias_corridos']).sum()/fluxo_pgto['cupom_semestral'].sum()\n",
    "\n",
    "  return pu, duration, pm\n"
   ]
  },
  {
   "cell_type": "markdown",
   "metadata": {},
   "source": [
    "NTN-B"
   ]
  },
  {
   "cell_type": "code",
   "execution_count": 59,
   "metadata": {},
   "outputs": [],
   "source": [
    "def calcular_ntnb(data_venc, taxa, data_ref):\n",
    "  # d15_base = data_liqui.replace(day=15)\n",
    "  # d15_proj = d15_base + relativedelta(months=1)\n",
    "  \n",
    "  # VNA deveria puxar dados de um banco, porém ainda não existe esse banco e o API tem só uma data em sandbox\n",
    "  vna = [x['vna'] for x in data_vna[0]['titulos'] if x['codigo_selic']=='760100'][0]\n",
    "\n",
    "  lista_datas = get_dias_cupom(data_ref, data_venc)\n",
    "  fluxo_pgto = pd.DataFrame(lista_datas, columns=['data_pgto'])\n",
    "  fluxo_pgto['fluxo'] = [(1.06**(1/2)-1)]*len(lista_datas)\n",
    "  fluxo_pgto['fluxo'].iloc[-1] = fluxo_pgto['fluxo'].iloc[-1] + 1\n",
    "  fluxo_pgto['dias_uteis'] = fluxo_pgto['data_pgto'].apply(lambda x: dias_uteis(data_ref, x))\n",
    "  fluxo_pgto['dias_corridos'] = fluxo_pgto['data_pgto'].apply(lambda x: (x - data_ref).days)\n",
    "  fluxo_pgto['vf_fluxo_taxa'] = fluxo_pgto.apply(lambda x: ((1+taxa)**(x['dias_uteis']/252)), axis=1)\n",
    "  fluxo_pgto['cotacao'] = fluxo_pgto.apply(lambda x: x['fluxo']/x['vf_fluxo_taxa'], axis=1)\n",
    "\n",
    "  fluxo_pgto['cupom_semestral'] = fluxo_pgto['fluxo']*vna\n",
    "  fluxo_pgto['vp_pgto'] = fluxo_pgto['cupom_semestral']/fluxo_pgto['vf_fluxo_taxa']\n",
    "\n",
    "  pu = fluxo_pgto['cotacao'].sum()*vna\n",
    "  duration = (fluxo_pgto['vp_pgto']*fluxo_pgto['dias_uteis']).sum()/fluxo_pgto['vp_pgto'].sum()\n",
    "  pm = (fluxo_pgto['cupom_semestral']*fluxo_pgto['dias_corridos']).sum()/fluxo_pgto['cupom_semestral'].sum()\n",
    "  \n",
    "  return pu, duration, pm"
   ]
  },
  {
   "cell_type": "markdown",
   "metadata": {},
   "source": [
    "LFT"
   ]
  },
  {
   "cell_type": "code",
   "execution_count": 62,
   "metadata": {},
   "outputs": [],
   "source": [
    "def calcular_lft(data_venc, taxa, data_ref):\n",
    "  duration = dias_uteis(data_ref, data_venc)\n",
    "  pm = (data_venc - data_ref).days\n",
    "\n",
    "  vna = [x['vna'] for x in data_vna[0]['titulos'] if x['codigo_selic']=='210100'][0]\n",
    "  cotacao = (1+taxa)**(-duration/252)\n",
    "  pu = vna*cotacao\n",
    "  return pu, duration, pm"
   ]
  },
  {
   "cell_type": "markdown",
   "metadata": {},
   "source": [
    "## Cálculo Geral"
   ]
  },
  {
   "cell_type": "code",
   "execution_count": null,
   "metadata": {},
   "outputs": [],
   "source": [
    "for titulo in clean_mercado:\n",
    "  data_ref=datetime.strptime(titulo['data_referencia'], \"%Y-%m-%d\").date()\n",
    "  data_venc=datetime.strptime(titulo['data_vencimento'], \"%Y-%m-%d\").date()\n",
    "\n",
    "  if titulo['tipo_titulo'] == 'LTN':\n",
    "    pu_calc = calcular_ltn(\n",
    "      data_venc=data_venc,\n",
    "      taxa=titulo['taxa_indicativa']/100,\n",
    "      data_ref=data_ref,\n",
    "      )\n",
    "\n",
    "  elif titulo['tipo_titulo'] == 'NTN-B':\n",
    "    pu_calc = calcular_ntnb(\n",
    "      data_venc=data_venc,\n",
    "      taxa=titulo['taxa_indicativa']/100,\n",
    "      data_ref=data_ref,\n",
    "      )\n",
    "\n",
    "  elif titulo['tipo_titulo'] == 'NTN-F':\n",
    "    pu_calc = calcular_ntnf(\n",
    "      data_venc=data_venc,\n",
    "      taxa=titulo['taxa_indicativa']/100,\n",
    "      data_ref=data_ref,\n",
    "      )\n",
    "\n",
    "  elif titulo['tipo_titulo'] == 'LFT':\n",
    "    pu_calc = calcular_lft(\n",
    "      data_venc=data_venc,\n",
    "      taxa=titulo['taxa_indicativa']/100,\n",
    "      data_ref=data_ref,\n",
    "      )\n",
    "\n",
    "  titulo['pu_calc']=pu_calc"
   ]
  },
  {
   "cell_type": "code",
   "execution_count": null,
   "metadata": {},
   "outputs": [],
   "source": [
    "t =[x for x in clean_mercado if x['tipo_titulo'] in ['NTN-F', 'NTN-B', 'LFT', 'LTN']]\n",
    "print('Tipo, Data Venc, Real, Calc, Error')\n",
    "for x in t: print(f\"{x['tipo_titulo']}, {x['data_referencia']}, {x['pu']}, {x['pu_calc'][0]}, {check_error(x['pu_calc'][0], x['pu'])}\")"
   ]
  }
 ],
 "metadata": {
  "interpreter": {
   "hash": "11938c6bc6919ae2720b4d5011047913343b08a43b18698fd82dedb0d4417594"
  },
  "kernelspec": {
   "display_name": "Python 3.9.7 64-bit",
   "language": "python",
   "name": "python3"
  },
  "language_info": {
   "codemirror_mode": {
    "name": "ipython",
    "version": 3
   },
   "file_extension": ".py",
   "mimetype": "text/x-python",
   "name": "python",
   "nbconvert_exporter": "python",
   "pygments_lexer": "ipython3",
   "version": "3.9.7"
  },
  "orig_nbformat": 4
 },
 "nbformat": 4,
 "nbformat_minor": 2
}
